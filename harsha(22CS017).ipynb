{
  "nbformat": 4,
  "nbformat_minor": 0,
  "metadata": {
    "colab": {
      "provenance": [],
      "authorship_tag": "ABX9TyMykg2UOquR4583YH8fIq8F",
      "include_colab_link": true
    },
    "kernelspec": {
      "name": "python3",
      "display_name": "Python 3"
    },
    "language_info": {
      "name": "python"
    }
  },
  "cells": [
    {
      "cell_type": "markdown",
      "metadata": {
        "id": "view-in-github",
        "colab_type": "text"
      },
      "source": [
        "<a href=\"https://colab.research.google.com/github/Harsha5386/demo-b1/blob/main/harsha(22CS017).ipynb\" target=\"_parent\"><img src=\"https://colab.research.google.com/assets/colab-badge.svg\" alt=\"Open In Colab\"/></a>"
      ]
    },
    {
      "cell_type": "code",
      "execution_count": null,
      "metadata": {
        "id": "dV3Vip2pr8Yo",
        "colab": {
          "base_uri": "https://localhost:8080/"
        },
        "outputId": "3e0343a3-b5d7-4efe-c798-8940c225e152"
      },
      "outputs": [
        {
          "output_type": "stream",
          "name": "stdout",
          "text": [
            "original dictionary:\n",
            "{'a': 100, 'b': 200, 'c': 300}\n",
            "converted series:\n",
            "a    100\n",
            "b    200\n",
            "c    300\n",
            "dtype: int64\n"
          ]
        }
      ],
      "source": [
        "import pandas as pd\n",
        "d1={'a':100,'b':200,'c':300}\n",
        "print(\"original dictionary:\")\n",
        "print(d1)\n",
        "new_series=pd.Series(d1)\n",
        "print(\"converted series:\")\n",
        "print(new_series)"
      ]
    },
    {
      "cell_type": "code",
      "source": [
        "import pandas as pd\n",
        "o=pd.Series(data=[1,2,3],index=['a','b','c'])\n",
        "print(\"original data series:\")\n",
        "print(o)\n",
        "s=s.reindex(index=['a','b','c','d'])\n",
        "print(\"data series after adding new element:\")\n",
        "print(o)"
      ],
      "metadata": {
        "colab": {
          "base_uri": "https://localhost:8080/"
        },
        "id": "KGT6oQlcnhNs",
        "outputId": "4ea730c9-99c1-425b-b95d-207ea973af94"
      },
      "execution_count": null,
      "outputs": [
        {
          "output_type": "stream",
          "name": "stdout",
          "text": [
            "original data series:\n",
            "a    1\n",
            "b    2\n",
            "c    3\n",
            "dtype: int64\n",
            "data series after adding new element:\n",
            "a    1\n",
            "b    2\n",
            "c    3\n",
            "dtype: int64\n"
          ]
        }
      ]
    },
    {
      "cell_type": "code",
      "source": [
        "import pandas as pd\n",
        "import numpy as np\n",
        "sr1=pd.Series([1,2,3])\n",
        "sr2=pd.Series([2,3,6])\n",
        "print(\"original series:\")\n",
        "print(\"sr1:\")\n",
        "print(sr1)\n",
        "print(\"sr2:\")\n",
        "print(sr)\n",
        "print(\"in items of a given series not present in another given series:\")\n",
        "sr1_union = pd.Series(np.union1d(sr1, sr2))\n",
        "sr1_intersect = pd.Series(np.intersect1d(sr1, sr2))\n",
        "result=sr1[~sr1.isin(sr1_intersect)]\n",
        "print(result)"
      ],
      "metadata": {
        "colab": {
          "base_uri": "https://localhost:8080/"
        },
        "id": "nqdZV_oeoI_j",
        "outputId": "55f082ed-ab12-42ce-f418-59fb08a845bf"
      },
      "execution_count": null,
      "outputs": [
        {
          "output_type": "stream",
          "name": "stdout",
          "text": [
            "original series:\n",
            "sr1:\n",
            "0    1\n",
            "1    2\n",
            "2    3\n",
            "dtype: int64\n",
            "sr2:\n",
            "0    2\n",
            "1    3\n",
            "2    6\n",
            "dtype: int64\n",
            "in items of a given series not present in another given series:\n",
            "0    1\n",
            "dtype: int64\n"
          ]
        }
      ]
    },
    {
      "cell_type": "code",
      "source": [
        "import pandas as pd\n",
        "import numpy as np\n",
        "exam_data={'name':['manish','dhiraj'],\n",
        "           'score':[12.5,9]}\n",
        "labels=['name','score']\n",
        "df=pd.DataFrame(exam_data,index=labels)\n",
        "print(df)"
      ],
      "metadata": {
        "colab": {
          "base_uri": "https://localhost:8080/"
        },
        "id": "_XnJbGarqzAX",
        "outputId": "6ff24220-9473-4ff7-c538-246eff425152"
      },
      "execution_count": null,
      "outputs": [
        {
          "output_type": "stream",
          "name": "stdout",
          "text": [
            "         name  score\n",
            "name   manish   12.5\n",
            "score  dhiraj    9.0\n"
          ]
        }
      ]
    },
    {
      "cell_type": "code",
      "source": [
        "import pandas as pd\n",
        "import numpy as np\n",
        "exam_data={'name':['manish','dhiraj','shivu','raju'],\n",
        "           'score':[12.5,91,2.5,9]}\n",
        "df=pd.DataFrame(exam_data)\n",
        "print(\"first three rows of the data frame:\")\n",
        "print(df.iloc[:3])"
      ],
      "metadata": {
        "colab": {
          "base_uri": "https://localhost:8080/"
        },
        "id": "2a4nbQT4r2ot",
        "outputId": "3aebdfdd-c1ee-4428-e394-3fc4e559fb92"
      },
      "execution_count": null,
      "outputs": [
        {
          "output_type": "stream",
          "name": "stdout",
          "text": [
            "first three rows of the data frame:\n",
            "     name  score\n",
            "0  manish   12.5\n",
            "1  dhiraj   91.0\n",
            "2   shivu    2.5\n"
          ]
        }
      ]
    },
    {
      "cell_type": "code",
      "source": [
        "import pandas as pd\n",
        "import numpy as np\n",
        "exam_data={'name':['manish','dhiraj','shivu','raju'],\n",
        "           'score':[12.5,91,2.5,9]}\n",
        "df=pd.DataFrame(exam_data)\n",
        "total_rows=len(df.axes[0])\n",
        "total_cols=len(df.axes[1])\n",
        "print(\"number of rows:\"+str(total_rows))\n",
        "print(\"number of columns:\"+str(total_cols))"
      ],
      "metadata": {
        "colab": {
          "base_uri": "https://localhost:8080/"
        },
        "id": "yF2WkMKptqFK",
        "outputId": "ebff3b41-3f2f-4da1-9ec8-58cc5b74d9c2"
      },
      "execution_count": null,
      "outputs": [
        {
          "output_type": "stream",
          "name": "stdout",
          "text": [
            "number of rows:4\n",
            "number of columns:2\n"
          ]
        }
      ]
    },
    {
      "cell_type": "code",
      "source": [
        "import pandas as pd\n",
        "import numpy as np\n",
        "exam_data={'name':['shivu','dhiraj','manish','man'],\n",
        "           'score':[12.5,91,20.5,19]}\n",
        "df=pd.DataFrame(exam_data)\n",
        "print(\"rows where score between 15 and 20(inclusive):\")\n",
        "print(df[df['score'].between(15,20)])"
      ],
      "metadata": {
        "colab": {
          "base_uri": "https://localhost:8080/"
        },
        "id": "Syn3wpioufHA",
        "outputId": "c0ca8034-3077-4910-fc94-f0a2b3380072"
      },
      "execution_count": null,
      "outputs": [
        {
          "output_type": "stream",
          "name": "stdout",
          "text": [
            "rows where score between 15 and 20(inclusive):\n",
            "  name  score\n",
            "3  man   19.0\n"
          ]
        }
      ]
    },
    {
      "cell_type": "code",
      "source": [
        "import pandas as pd\n",
        "import numpy as np\n",
        "exam_data={'name':['shivu','dhiraj','manish','man'],\n",
        "           'score':[12.5,91,20.5,19]}\n",
        "df=pd.DataFrame(exam_data)\n",
        "result_sort=df.sort_values(by=['name','score'],ascending=[True,True])\n",
        "print(\"sort the dataframe first by 'name in desending order then by 'score',in ascending order:\")\n",
        "print(result_sort)"
      ],
      "metadata": {
        "colab": {
          "base_uri": "https://localhost:8080/"
        },
        "id": "j9aMTf0Fq4a-",
        "outputId": "473683e5-2fba-4f04-dedc-8d3d2140befb"
      },
      "execution_count": null,
      "outputs": [
        {
          "output_type": "stream",
          "name": "stdout",
          "text": [
            "sort the dataframe first by 'name in desending order then by 'score',in ascending order:\n",
            "     name  score\n",
            "1  dhiraj   91.0\n",
            "3     man   19.0\n",
            "2  manish   20.5\n",
            "0   shivu   12.5\n"
          ]
        }
      ]
    },
    {
      "cell_type": "code",
      "source": [
        "import pandas as pd\n",
        "import numpy as np\n",
        "exam_data = {'name': ['Manish', 'Dhiraj','Man', 'Dhir'],\n",
        " 'score': [12.5, 91,20.5, 19]}\n",
        "df = pd.DataFrame(exam_data )\n",
        "df['name'] = df['name'].replace('Manish', 'Anish')\n",
        "print(df)"
      ],
      "metadata": {
        "colab": {
          "base_uri": "https://localhost:8080/"
        },
        "id": "KGR4kA6Uu0zw",
        "outputId": "fd3c45b3-9d12-4a3f-dd44-12a61037630e"
      },
      "execution_count": null,
      "outputs": [
        {
          "output_type": "stream",
          "name": "stdout",
          "text": [
            "     name  score\n",
            "0   Anish   12.5\n",
            "1  Dhiraj   91.0\n",
            "2     Man   20.5\n",
            "3    Dhir   19.0\n"
          ]
        }
      ]
    },
    {
      "cell_type": "code",
      "source": [
        "import pandas as pd\n",
        "import numpy as np\n",
        "exam_data = {'name': ['Manish', 'Dhiraj','Man', 'Dhir'],\n",
        " 'score': [12.5, 91,20.5, 19]}\n",
        "df = pd.DataFrame(exam_data )\n",
        "medium = ['english','hindi','hindi','english']\n",
        "df['medium'] = medium\n",
        "print(\"\\nNew DataFrame after inserting the 'medium' column\")\n",
        "print(df)"
      ],
      "metadata": {
        "colab": {
          "base_uri": "https://localhost:8080/"
        },
        "id": "bTyr-l6TwRPs",
        "outputId": "39e535bc-4fe5-42dc-b2bd-8c8087b24a58"
      },
      "execution_count": null,
      "outputs": [
        {
          "output_type": "stream",
          "name": "stdout",
          "text": [
            "\n",
            "New DataFrame after inserting the 'medium' column\n",
            "     name  score   medium\n",
            "0  Manish   12.5  english\n",
            "1  Dhiraj   91.0    hindi\n",
            "2     Man   20.5    hindi\n",
            "3    Dhir   19.0  english\n"
          ]
        }
      ]
    },
    {
      "cell_type": "code",
      "source": [
        "import numpy as np\n",
        "exam_data = {'name': ['Manish', 'Dhiraj','Man', 'Dhir'],\n",
        " 'score': [12.5, 91,20.5, 19]}\n",
        "df = pd.DataFrame(exam_data )\n",
        "df = df.rename(columns={'name': 'NAME', 'score': 'SCORE'})\n",
        "print(\"New DataFrame after renaming columns:\")\n",
        "print(df)\n"
      ],
      "metadata": {
        "colab": {
          "base_uri": "https://localhost:8080/"
        },
        "id": "nvQoQlM-wWCs",
        "outputId": "50b19625-4bbd-4ff6-bd82-47a1f6667f8c"
      },
      "execution_count": null,
      "outputs": [
        {
          "output_type": "stream",
          "name": "stdout",
          "text": [
            "New DataFrame after renaming columns:\n",
            "     NAME  SCORE\n",
            "0  Manish   12.5\n",
            "1  Dhiraj   91.0\n",
            "2     Man   20.5\n",
            "3    Dhir   19.0\n"
          ]
        }
      ]
    },
    {
      "cell_type": "code",
      "source": [
        "import pandas as pd\n",
        "import numpy as np\n",
        "exam_data = {'name': ['Manish', 'Dhiraj','Man', 'Dhir'],\n",
        " 'score': [12.5, 91,20.5, 19]}\n",
        "df = pd.DataFrame(exam_data )\n",
        "df = df[df.score >= 20]\n",
        "print(\"New DataFrame\")\n",
        "print(df)"
      ],
      "metadata": {
        "colab": {
          "base_uri": "https://localhost:8080/"
        },
        "id": "Frq87uMrwarE",
        "outputId": "de35f3c8-a5a9-4098-a187-7dc391c8fba4"
      },
      "execution_count": null,
      "outputs": [
        {
          "output_type": "stream",
          "name": "stdout",
          "text": [
            "New DataFrame\n",
            "     name  score\n",
            "1  Dhiraj   91.0\n",
            "2     Man   20.5\n"
          ]
        }
      ]
    },
    {
      "cell_type": "code",
      "source": [
        "import pandas as pd\n",
        "import numpy as np\n",
        "s1=pd.Series(['100','200','400'])\n",
        "s2=pd.Series(['10','20','40'])\n",
        "print(\"data series:\")\n",
        "print(s1)\n",
        "print(s2)\n",
        "df=pd.concat([s1,s2],axis=1)\n",
        "print(\"new data frame combing two series:\")\n",
        "print(df)"
      ],
      "metadata": {
        "colab": {
          "base_uri": "https://localhost:8080/"
        },
        "id": "nj0Jfl9XxhJM",
        "outputId": "207071f6-d759-4cb1-e32e-c242ca5d21f0"
      },
      "execution_count": null,
      "outputs": [
        {
          "output_type": "stream",
          "name": "stdout",
          "text": [
            "data series:\n",
            "0    100\n",
            "1    200\n",
            "2    400\n",
            "dtype: object\n",
            "0    10\n",
            "1    20\n",
            "2    40\n",
            "dtype: object\n",
            "new data frame combing two series:\n",
            "     0   1\n",
            "0  100  10\n",
            "1  200  20\n",
            "2  400  40\n"
          ]
        }
      ]
    },
    {
      "cell_type": "code",
      "source": [
        "import pandas as pd\n",
        "data={'name':['rupa','sita','geta'],\n",
        "      'age':[25,30,35],\n",
        "      'city':['bagalkot','solapur','gulbraga']\n",
        "}\n",
        "df=pd.DataFrame(data)\n",
        "print(df)"
      ],
      "metadata": {
        "colab": {
          "base_uri": "https://localhost:8080/"
        },
        "id": "53aor41JbEdu",
        "outputId": "f3186a1f-7341-47aa-f2e9-b3febe9e386b"
      },
      "execution_count": null,
      "outputs": [
        {
          "output_type": "stream",
          "name": "stdout",
          "text": [
            "   name  age      city\n",
            "0  rupa   25  bagalkot\n",
            "1  sita   30   solapur\n",
            "2  geta   35  gulbraga\n"
          ]
        }
      ]
    },
    {
      "cell_type": "code",
      "source": [
        "import pandas as pd\n",
        "data={'name':['rupa','sita','geta'],\n",
        "      'age':[25,30,35],\n",
        "      'city':['bagalkot','solapur','gulbraga']\n",
        "      }\n",
        "df=pd.DataFrame(data)\n",
        "result_sort=df.sort_values(by=['age'],ascending=True)\n",
        "print('it sorts the dataframe of age in ascending order')\n",
        "print(result_sort)"
      ],
      "metadata": {
        "colab": {
          "base_uri": "https://localhost:8080/"
        },
        "id": "k8k234tahtAV",
        "outputId": "fab9f231-aca8-4ef9-d476-17a4392576a4"
      },
      "execution_count": null,
      "outputs": [
        {
          "output_type": "stream",
          "name": "stdout",
          "text": [
            "it sorts the dataframe of age in ascending order\n",
            "   name  age      city\n",
            "0  rupa   25  bagalkot\n",
            "1  sita   30   solapur\n",
            "2  geta   35  gulbraga\n"
          ]
        }
      ]
    },
    {
      "cell_type": "code",
      "source": [
        "import pandas as pd\n",
        "data={'name':['rupa','sita','geta'],\n",
        "     'age':[25,30,35],\n",
        "     'city':['bagalkot','solapur','gulbraga']\n",
        "     }\n",
        "df=pd.DataFrame(data)\n",
        "salary=[50000,60000,70000]\n",
        "df['salary']=salary\n",
        "print(\"after adding a new column of salary colum\")\n",
        "print(df)"
      ],
      "metadata": {
        "colab": {
          "base_uri": "https://localhost:8080/"
        },
        "id": "xdQchI0LkIfx",
        "outputId": "c3fb22c1-8966-450e-814e-f9e6b67624d8"
      },
      "execution_count": null,
      "outputs": [
        {
          "output_type": "stream",
          "name": "stdout",
          "text": [
            "after adding a new column of salary colum\n",
            "   name  age      city  salary\n",
            "0  rupa   25  bagalkot   50000\n",
            "1  sita   30   solapur   60000\n",
            "2  geta   35  gulbraga   70000\n"
          ]
        }
      ]
    },
    {
      "cell_type": "code",
      "source": [
        "import pandas as pd\n",
        "data={'name':['rupa','sita','geta'],\n",
        "      'age':[25,30,35],\n",
        "      'city':['bagalkot','solapur','gulbraga']\n",
        "      }\n",
        "df=pd.DataFrame(data)\n",
        "df_filtered = df[(df['age']>30)]\n",
        "print(df_filtered)"
      ],
      "metadata": {
        "colab": {
          "base_uri": "https://localhost:8080/"
        },
        "id": "LDNMLzRSl85m",
        "outputId": "28ac3323-64f2-4e53-839b-7073328a36e4"
      },
      "execution_count": null,
      "outputs": [
        {
          "output_type": "stream",
          "name": "stdout",
          "text": [
            "   name  age      city\n",
            "2  geta   35  gulbraga\n"
          ]
        }
      ]
    },
    {
      "cell_type": "code",
      "source": [
        "import pandas as pd\n",
        "data={'name':['rupa','sita','geta'],\n",
        "      'age':[25,30,35],\n",
        "      'city':['bagalkot','solapur','gulbraga']\n",
        "      }\n",
        "df=pd.DataFrame(data)\n",
        "df.loc[df['name']=='sita','city']='bagalkot'\n",
        "print(df)"
      ],
      "metadata": {
        "colab": {
          "base_uri": "https://localhost:8080/"
        },
        "id": "P0PVWJNnnJRU",
        "outputId": "020cae7f-bbf0-4257-971b-ee062d3749ed"
      },
      "execution_count": null,
      "outputs": [
        {
          "output_type": "stream",
          "name": "stdout",
          "text": [
            "   name  age      city\n",
            "0  rupa   25  bagalkot\n",
            "1  sita   30  bagalkot\n",
            "2  geta   35  gulbraga\n"
          ]
        }
      ]
    },
    {
      "cell_type": "code",
      "source": [
        "import pandas as pd\n",
        "data={'name':['rupa','sita','geta'],\n",
        "      'age':[25,30,35]\n",
        "      }\n",
        "df=pd.DataFrame(data)\n",
        "df=df['age'].mean()\n",
        "print(df)"
      ],
      "metadata": {
        "colab": {
          "base_uri": "https://localhost:8080/"
        },
        "id": "J856ff33oa5i",
        "outputId": "3ca57e21-5620-4823-eb4a-196613bfc4bc"
      },
      "execution_count": null,
      "outputs": [
        {
          "output_type": "stream",
          "name": "stdout",
          "text": [
            "30.0\n"
          ]
        }
      ]
    },
    {
      "cell_type": "code",
      "source": [
        "import pandas as pd\n",
        "data={'name':['rupa','sita','geta'],\n",
        "     'age':[25,30,35],\n",
        "     'city':['bagalkot','bagalkot','gulbarga']\n",
        "     }\n",
        "df=pd.DataFrame(data)\n",
        "df=df.drop(columns=['city'])\n",
        "print(df)"
      ],
      "metadata": {
        "colab": {
          "base_uri": "https://localhost:8080/"
        },
        "id": "-_5K3SJcpYRB",
        "outputId": "4c1a669e-d776-4103-8485-f23d7e39ff0a"
      },
      "execution_count": null,
      "outputs": [
        {
          "output_type": "stream",
          "name": "stdout",
          "text": [
            "   name  age\n",
            "0  rupa   25\n",
            "1  sita   30\n",
            "2  geta   35\n"
          ]
        }
      ]
    },
    {
      "cell_type": "code",
      "source": [
        "import pandas as pd\n",
        "data={'name':['rupa','sita','geta'],\n",
        "      'age':[25,30,35],\n",
        "      'city':['bagalkot','solapur','gulbarga']\n",
        "      }\n",
        "df=pd.DataFrame(data)\n",
        "df='bagalkot'in df['city'].values\n",
        "print(df)"
      ],
      "metadata": {
        "colab": {
          "base_uri": "https://localhost:8080/"
        },
        "id": "Hf0HvWpYkRoX",
        "outputId": "75226035-3c41-49cb-a3fb-48012dde233e"
      },
      "execution_count": null,
      "outputs": [
        {
          "output_type": "stream",
          "name": "stdout",
          "text": [
            "True\n"
          ]
        }
      ]
    },
    {
      "cell_type": "code",
      "source": [
        "import pandas as pd\n",
        "data={'name':['rupa','sita','geta'],\n",
        "      'age':[25,30,35],\n",
        "      'city':['bagalkot','solapur','gulbarga']\n",
        "      }\n",
        "df=pd.DataFrame(data)\n",
        "df = df[df['name']=='sita']\n",
        "print(df)"
      ],
      "metadata": {
        "colab": {
          "base_uri": "https://localhost:8080/"
        },
        "id": "pbToL2ZFlQct",
        "outputId": "8736966b-19a6-4098-c771-bba6e8c8ff17"
      },
      "execution_count": null,
      "outputs": [
        {
          "output_type": "stream",
          "name": "stdout",
          "text": [
            "   name  age     city\n",
            "1  sita   30  solapur\n"
          ]
        }
      ]
    },
    {
      "cell_type": "code",
      "source": [
        "import pandas as pd\n",
        "data={'name':['rupa','sita','geta'],\n",
        "      'age':[25,30,35],\n",
        "      'city':['bagalkot','solapur','gulbarga']\n",
        "      }\n",
        "df=pd.DataFrame(data)\n",
        "city_counts=df['city'].value_counts()\n",
        "print(city_counts)"
      ],
      "metadata": {
        "colab": {
          "base_uri": "https://localhost:8080/"
        },
        "id": "LAosN_6inAhL",
        "outputId": "df3a5332-9469-4194-819e-54a1c75b53ac"
      },
      "execution_count": null,
      "outputs": [
        {
          "output_type": "stream",
          "name": "stdout",
          "text": [
            "city\n",
            "bagalkot    1\n",
            "solapur     1\n",
            "gulbarga    1\n",
            "Name: count, dtype: int64\n"
          ]
        }
      ]
    },
    {
      "cell_type": "code",
      "source": [
        "import pandas as pd\n",
        "data={'name':['rupa','sita','geta'],\n",
        "      'age':[25,30,35],\n",
        "      'city':['bagalkot','solapur','gulbarga'],\n",
        "      'salary':[50000,60000,70000]\n",
        "      }\n",
        "df=pd.DataFrame(data)\n",
        "high_salary=df[df['salary']==df['salary']]\n",
        "print(high_salary)"
      ],
      "metadata": {
        "colab": {
          "base_uri": "https://localhost:8080/"
        },
        "id": "GCjZz3cuoQQo",
        "outputId": "1e8f011b-86c6-49e6-e86d-e3a429674fbe"
      },
      "execution_count": null,
      "outputs": [
        {
          "output_type": "stream",
          "name": "stdout",
          "text": [
            "   name  age      city  salary\n",
            "0  rupa   25  bagalkot   50000\n",
            "1  sita   30   solapur   60000\n",
            "2  geta   35  gulbarga   70000\n"
          ]
        }
      ]
    },
    {
      "cell_type": "code",
      "source": [
        "import pandas as pd\n",
        "s1=pd.Series([5,10,15,20,25])\n",
        "print(\"series s1:\")\n",
        "print(s1)\n",
        "print(\"\\n13.index of max value in s1:\",s1.idxmax())"
      ],
      "metadata": {
        "colab": {
          "base_uri": "https://localhost:8080/"
        },
        "id": "FdZvp3xGqWbO",
        "outputId": "7c6d3e62-ef6d-47e6-8490-6e2acc22d16e"
      },
      "execution_count": null,
      "outputs": [
        {
          "output_type": "stream",
          "name": "stdout",
          "text": [
            "series s1:\n",
            "0     5\n",
            "1    10\n",
            "2    15\n",
            "3    20\n",
            "4    25\n",
            "dtype: int64\n",
            "\n",
            "13.index of max value in s1: 4\n"
          ]
        }
      ]
    },
    {
      "cell_type": "code",
      "source": [
        "index=['a','b','c','d','e']\n",
        "s1=(\"\\n 2.series with custom index:\")\n",
        "print(s1)\n"
      ],
      "metadata": {
        "colab": {
          "base_uri": "https://localhost:8080/"
        },
        "id": "4wpFteigq158",
        "outputId": "2d759fcd-801e-4de5-fdef-57b42b4b3739"
      },
      "execution_count": null,
      "outputs": [
        {
          "output_type": "stream",
          "name": "stdout",
          "text": [
            "\n",
            " 2.series with custom index:\n"
          ]
        }
      ]
    },
    {
      "cell_type": "code",
      "source": [
        "print(\"\\n element at index 'c':s1['c']max]element at index 'c':\")\n"
      ],
      "metadata": {
        "colab": {
          "base_uri": "https://localhost:8080/"
        },
        "id": "kA-zFyAartyj",
        "outputId": "2c3a4485-a87a-4648-a4e1-6f8a62273894"
      },
      "execution_count": null,
      "outputs": [
        {
          "output_type": "stream",
          "name": "stdout",
          "text": [
            "\n",
            " element at index 'c':s1['c']max]element at index 'c':\n"
          ]
        }
      ]
    },
    {
      "cell_type": "code",
      "source": [
        "print(\"\\n 4.maximum values in s1:\",s1.max())"
      ],
      "metadata": {
        "colab": {
          "base_uri": "https://localhost:8080/"
        },
        "id": "wY3bI5XZtDip",
        "outputId": "f1c71933-2929-4384-a611-95ed8196b7a2"
      },
      "execution_count": null,
      "outputs": [
        {
          "output_type": "stream",
          "name": "stdout",
          "text": [
            "\n",
            " 4.maximum values in s1: 25\n"
          ]
        }
      ]
    },
    {
      "cell_type": "code",
      "source": [
        "print(\"\\n 5 series after adding 5 to particular element\")\n",
        "print(s1+5)"
      ],
      "metadata": {
        "colab": {
          "base_uri": "https://localhost:8080/"
        },
        "id": "YsbJgUBlueuu",
        "outputId": "2929352b-8459-4bad-e35c-34bcafe22bf3"
      },
      "execution_count": null,
      "outputs": [
        {
          "output_type": "stream",
          "name": "stdout",
          "text": [
            "\n",
            " 5 series after adding 5 to particular element\n",
            "0    10\n",
            "1    15\n",
            "2    20\n",
            "3    25\n",
            "4    30\n",
            "dtype: int64\n"
          ]
        }
      ]
    },
    {
      "cell_type": "code",
      "source": [
        "import pandas as pd\n",
        "prices=pd.Series({'apple':80,'banana':30,'cherey':20})\n",
        "print(\"\\n 6 price series\")\n",
        "print(prices)"
      ],
      "metadata": {
        "colab": {
          "base_uri": "https://localhost:8080/"
        },
        "id": "2nzbjyP4vSq-",
        "outputId": "a286484d-e8bf-4060-d827-f7100692df30"
      },
      "execution_count": null,
      "outputs": [
        {
          "output_type": "stream",
          "name": "stdout",
          "text": [
            "\n",
            " 6 price series\n",
            "apple     80\n",
            "banana    30\n",
            "cherey    20\n",
            "dtype: int64\n"
          ]
        }
      ]
    },
    {
      "cell_type": "code",
      "source": [
        "print(\"\\n 7 fruits with prices>25:\")\n",
        "print(prices[prices>25])"
      ],
      "metadata": {
        "colab": {
          "base_uri": "https://localhost:8080/"
        },
        "id": "f8i-0BXewAPV",
        "outputId": "a42cd725-9622-4119-aecb-c5741fbfdbbc"
      },
      "execution_count": null,
      "outputs": [
        {
          "output_type": "stream",
          "name": "stdout",
          "text": [
            "\n",
            " 7 fruits with prices>25:\n",
            "apple     80\n",
            "banana    30\n",
            "dtype: int64\n"
          ]
        }
      ]
    },
    {
      "cell_type": "code",
      "source": [
        "print(\"\\n 8.prices after 20% increas:\")\n",
        "print(prices * 1.2)"
      ],
      "metadata": {
        "colab": {
          "base_uri": "https://localhost:8080/"
        },
        "id": "qcM2J1dswjMD",
        "outputId": "96486bd5-2582-491e-ca94-058e2e21377d"
      },
      "execution_count": null,
      "outputs": [
        {
          "output_type": "stream",
          "name": "stdout",
          "text": [
            "\n",
            " 8.prices after 20% increas:\n",
            "apple     96.0\n",
            "banana    36.0\n",
            "cherey    24.0\n",
            "dtype: float64\n"
          ]
        }
      ]
    },
    {
      "cell_type": "code",
      "source": [
        "import pandas as pd\n",
        "prices=pd.Series({'apple':80,'banana':30,'cherey':20})\n",
        "new_prices=pd.Series({'banana':10,'cherey':5,'apple':15})\n",
        "total_prices=prices+new_prices\n",
        "print(\"\\n 9.total prices after adding new prices:\")\n",
        "print(total_prices)\n",
        "print(\"explain:values are added by matching with keys.it a key is missing one result is none\")"
      ],
      "metadata": {
        "colab": {
          "base_uri": "https://localhost:8080/"
        },
        "id": "MeKBBJ6bx1BB",
        "outputId": "6ae65eb1-3b03-4f94-88c0-4a8123342db1"
      },
      "execution_count": null,
      "outputs": [
        {
          "output_type": "stream",
          "name": "stdout",
          "text": [
            "\n",
            " 9.total prices after adding new prices:\n",
            "apple     95\n",
            "banana    40\n",
            "cherey    25\n",
            "dtype: int64\n",
            "explain:values are added by matching with keys.it a key is missing one result is none\n"
          ]
        }
      ]
    },
    {
      "cell_type": "code",
      "source": [
        "\n",
        "marks=pd.Series([70,85,90,65,88])\n",
        "print(\"\\n 10.mean of marks:\",marks.mean())\n",
        "print(\"std deviation of marks:\",marks.std())"
      ],
      "metadata": {
        "colab": {
          "base_uri": "https://localhost:8080/"
        },
        "id": "7SnF9ofH0ze1",
        "outputId": "c31e8ada-ea18-4b01-b08c-32f29446e6ac"
      },
      "execution_count": null,
      "outputs": [
        {
          "output_type": "stream",
          "name": "stdout",
          "text": [
            "\n",
            " 10.mean of marks: 79.6\n",
            "std deviation of marks: 11.326958991715296\n"
          ]
        }
      ]
    },
    {
      "cell_type": "code",
      "source": [
        "\n",
        "sub1=pd.Series({'yash':88,'alok':88,'cherlic':92})\n",
        "sub2=pd.Series({'yash':88,'alok':88,'cherlic':92})\n",
        "total_marks=sub1+sub2\n",
        "print(\"\\n 11.totalmarks for each student:\")\n",
        "print(total_marks)"
      ],
      "metadata": {
        "colab": {
          "base_uri": "https://localhost:8080/"
        },
        "id": "eAVr88IU16W6",
        "outputId": "d008db85-7db3-441f-c013-677611afe9d6"
      },
      "execution_count": null,
      "outputs": [
        {
          "output_type": "stream",
          "name": "stdout",
          "text": [
            "\n",
            " 11.totalmarks for each student:\n",
            "yash       176\n",
            "alok       176\n",
            "cherlic    184\n",
            "dtype: int64\n"
          ]
        }
      ]
    },
    {
      "cell_type": "code",
      "source": [
        "import pandas as pd\n",
        "dates=pd.Series(pd.to_datetime(['2025-04-22','2025-07-10']))\n",
        "months=dates.dt.month\n",
        "print(\"\\n 12 months extracted from times \")\n",
        "print(months)"
      ],
      "metadata": {
        "colab": {
          "base_uri": "https://localhost:8080/"
        },
        "id": "PVUkH8cn4Uw4",
        "outputId": "908c57b8-df1e-4350-ceb8-a3cf7c182b9b"
      },
      "execution_count": null,
      "outputs": [
        {
          "output_type": "stream",
          "name": "stdout",
          "text": [
            "\n",
            " 12 months extracted from times \n",
            "0    4\n",
            "1    7\n",
            "dtype: int32\n"
          ]
        }
      ]
    },
    {
      "cell_type": "code",
      "source": [
        "index=['a','b','c','d','e']\n",
        "s1=(\"\\n2.serices with custom index:\")\n",
        "print(s1)"
      ],
      "metadata": {
        "colab": {
          "base_uri": "https://localhost:8080/"
        },
        "id": "avMtO_IdOq8T",
        "outputId": "7646c00f-8993-4abc-d179-537f332b0f2f"
      },
      "execution_count": null,
      "outputs": [
        {
          "output_type": "stream",
          "name": "stdout",
          "text": [
            "\n",
            "2.serices with custom index:\n"
          ]
        }
      ]
    },
    {
      "cell_type": "code",
      "source": [
        "mimport pandas as pd\n",
        "import numpy as np\n",
        "arr=np.array([1,2,3,4])\n",
        "print(arr.sum())"
      ],
      "metadata": {
        "colab": {
          "base_uri": "https://localhost:8080/"
        },
        "id": "n5M74VSCfdpW",
        "outputId": "d31fc42a-1e21-4f10-e28a-44912278f483"
      },
      "execution_count": null,
      "outputs": [
        {
          "output_type": "stream",
          "name": "stdout",
          "text": [
            "10\n"
          ]
        }
      ]
    },
    {
      "cell_type": "code",
      "source": [
        "import pandas as pd\n",
        "import numpy as np\n",
        "arr=np.array([1,2,3,4])\n",
        "print(arr.mean())"
      ],
      "metadata": {
        "colab": {
          "base_uri": "https://localhost:8080/"
        },
        "id": "KeX-pLgAgI4d",
        "outputId": "a3713bd4-4a0b-46ff-b75a-abe9f3be5bb9"
      },
      "execution_count": null,
      "outputs": [
        {
          "output_type": "stream",
          "name": "stdout",
          "text": [
            "2.5\n"
          ]
        }
      ]
    },
    {
      "cell_type": "code",
      "source": [
        "import pandas as pd\n",
        "import numpy as np\n",
        "arr=np.array([1,2,3,4])\n",
        "print(arr.min())"
      ],
      "metadata": {
        "colab": {
          "base_uri": "https://localhost:8080/"
        },
        "id": "i1zx9no3gjKV",
        "outputId": "6fd94734-f0d0-4b2c-dce9-05a282d0c982"
      },
      "execution_count": null,
      "outputs": [
        {
          "output_type": "stream",
          "name": "stdout",
          "text": [
            "1\n"
          ]
        }
      ]
    },
    {
      "cell_type": "code",
      "source": [
        "import pandas as pd\n",
        "import numpy as np\n",
        "arr=np.array([1,2,3,4])\n",
        "print(arr.max())"
      ],
      "metadata": {
        "colab": {
          "base_uri": "https://localhost:8080/"
        },
        "id": "ilQ5ur-ug0hk",
        "outputId": "6e39a30c-cef6-4630-ba30-cff0567fc346"
      },
      "execution_count": null,
      "outputs": [
        {
          "output_type": "stream",
          "name": "stdout",
          "text": [
            "4\n"
          ]
        }
      ]
    },
    {
      "cell_type": "code",
      "source": [
        "import numpy as np\n",
        "import random\n",
        "array=np.random.randint(16,size=(4,4))\n",
        "print(\"input array:\\n\",array)\n",
        "print(\"largest number in x axis:\",np.max(array,axis=1))\n",
        "print(\"largest number in y axis:\",np.max(array,axis=0))\n"
      ],
      "metadata": {
        "colab": {
          "base_uri": "https://localhost:8080/"
        },
        "id": "ARsd7oBGg8br",
        "outputId": "70bccba0-15e1-40e2-b07d-aebf0fd420a3"
      },
      "execution_count": null,
      "outputs": [
        {
          "output_type": "stream",
          "name": "stdout",
          "text": [
            "input array:\n",
            " [[ 9  4  2 15]\n",
            " [10 10  6  2]\n",
            " [ 1  5  3 12]\n",
            " [10  3 12  1]]\n",
            "largest number in x axis: [15 10 12 12]\n",
            "largest number in y axis: [10 10 12 15]\n"
          ]
        }
      ]
    },
    {
      "cell_type": "code",
      "source": [
        "import numpy as np\n",
        "array=np.random.randint(16,size=(4,4))\n",
        "print(\"input array:\\n\",array)\n",
        "print(\"smallest number in xaxis:\",np.min(array,axis=1))\n",
        "print(\"smallest number in y axis:\",np.min(array,axis=0))\n"
      ],
      "metadata": {
        "colab": {
          "base_uri": "https://localhost:8080/"
        },
        "id": "o2QOBpfiiOVE",
        "outputId": "9319d64f-96f3-47d6-9213-84effa12801e"
      },
      "execution_count": null,
      "outputs": [
        {
          "output_type": "stream",
          "name": "stdout",
          "text": [
            "input array:\n",
            " [[11  3 12  8]\n",
            " [ 9 15  5 13]\n",
            " [ 3 13  6  9]\n",
            " [14  5  3  0]]\n",
            "smallest number in xaxis: [3 5 3 0]\n",
            "smallest number in y axis: [3 3 3 0]\n"
          ]
        }
      ]
    },
    {
      "cell_type": "code",
      "source": [
        "import pandas as pd\n",
        "import numpy as np\n",
        "arr=np.array([1,2,3,4])\n",
        "print(arr.std())"
      ],
      "metadata": {
        "colab": {
          "base_uri": "https://localhost:8080/"
        },
        "id": "l4beILv_kUo2",
        "outputId": "d18c270e-3e7e-4f1e-b20d-86f7a1800439"
      },
      "execution_count": null,
      "outputs": [
        {
          "output_type": "stream",
          "name": "stdout",
          "text": [
            "1.118033988749895\n"
          ]
        }
      ]
    },
    {
      "cell_type": "code",
      "source": [
        "import numpy as np\n",
        "arr=np.array([1,2,3])\n",
        "print(arr+2)"
      ],
      "metadata": {
        "colab": {
          "base_uri": "https://localhost:8080/"
        },
        "id": "wZKAFcrWk0nV",
        "outputId": "315b4cf6-3051-49f4-f0de-3d7aa1fc6f90"
      },
      "execution_count": null,
      "outputs": [
        {
          "output_type": "stream",
          "name": "stdout",
          "text": [
            "[3 4 5]\n"
          ]
        }
      ]
    },
    {
      "cell_type": "code",
      "source": [
        "import pandas as pd\n",
        "import numpy as np\n",
        "arr=np.array([1,2,3,4])\n",
        "print(np.sin(arr))"
      ],
      "metadata": {
        "colab": {
          "base_uri": "https://localhost:8080/"
        },
        "id": "hDzohhPPlS29",
        "outputId": "5beb385b-a76f-4050-c6a3-85d9d12c104c"
      },
      "execution_count": null,
      "outputs": [
        {
          "output_type": "stream",
          "name": "stdout",
          "text": [
            "[ 0.84147098  0.90929743  0.14112001 -0.7568025 ]\n"
          ]
        }
      ]
    },
    {
      "cell_type": "code",
      "source": [
        "import numpy as np\n",
        "arr=np.array([1,2,3])\n",
        "arr2=np.array([1,2,3])\n",
        "print(arr+arr2)"
      ],
      "metadata": {
        "colab": {
          "base_uri": "https://localhost:8080/"
        },
        "id": "XI2vGEaGli_0",
        "outputId": "717e23fb-13aa-49ec-adfc-b869e4e58c70"
      },
      "execution_count": null,
      "outputs": [
        {
          "output_type": "stream",
          "name": "stdout",
          "text": [
            "[2 4 6]\n"
          ]
        }
      ]
    },
    {
      "cell_type": "code",
      "source": [
        "import numpy as np\n",
        "arr=np.array([1,2,3])\n",
        "arr2=np.array([1,2,3])\n",
        "squared=list(map(lambda x:x**2,arr))\n",
        "print(\"squared using map:\",squared)\n"
      ],
      "metadata": {
        "colab": {
          "base_uri": "https://localhost:8080/"
        },
        "id": "AyA026ewmDw9",
        "outputId": "b3535f01-7913-49f6-e2f6-4085a878a51f"
      },
      "execution_count": null,
      "outputs": [
        {
          "output_type": "stream",
          "name": "stdout",
          "text": [
            "squared using map: [np.int64(1), np.int64(4), np.int64(9)]\n"
          ]
        }
      ]
    },
    {
      "cell_type": "code",
      "source": [
        "def square (number):\n",
        "  return number*number\n",
        "nums=[1,2,3,4]\n",
        "squared_number=list(map(square,nums))\n",
        "print(squared_number)"
      ],
      "metadata": {
        "colab": {
          "base_uri": "https://localhost:8080/"
        },
        "id": "wdYdOoOCnf1q",
        "outputId": "5fde1179-2391-4515-8302-b954391903cb"
      },
      "execution_count": null,
      "outputs": [
        {
          "output_type": "stream",
          "name": "stdout",
          "text": [
            "[1, 4, 9, 16]\n"
          ]
        }
      ]
    },
    {
      "cell_type": "code",
      "source": [
        "nums1=[1,2,3,4,5,6]\n",
        "square_of_nums1=list(map(lambda n:n*n,nums1))\n",
        "print(square_of_nums1)"
      ],
      "metadata": {
        "colab": {
          "base_uri": "https://localhost:8080/"
        },
        "id": "9H_1dFqzoji5",
        "outputId": "10325f34-deae-46f9-c76e-88aa14a81d80"
      },
      "execution_count": null,
      "outputs": [
        {
          "output_type": "stream",
          "name": "stdout",
          "text": [
            "[1, 4, 9, 16, 25, 36]\n"
          ]
        }
      ]
    },
    {
      "cell_type": "code",
      "source": [
        "def is_even(n):\n",
        "  if n%2==0:\n",
        "    return True\n",
        "  else:\n",
        "    return False\n",
        "num=[1,2,3,4]\n",
        "even=list(filter(is_even,num))\n",
        "print(even)"
      ],
      "metadata": {
        "colab": {
          "base_uri": "https://localhost:8080/"
        },
        "id": "Hh0A5RBbpz92",
        "outputId": "2003a141-1b5f-4894-b408-b114b84ead7b"
      },
      "execution_count": null,
      "outputs": [
        {
          "output_type": "stream",
          "name": "stdout",
          "text": [
            "[2, 4]\n"
          ]
        }
      ]
    },
    {
      "cell_type": "code",
      "source": [
        "def is_even(n):\n",
        "  if n%2==0:\n",
        "    return True\n",
        "  else:\n",
        "    return False\n",
        "num=[1,2,3,4]\n",
        "even=list(filter(lambda x:x%2==0,arr))\n",
        "print(\"even numbers:\",even)"
      ],
      "metadata": {
        "colab": {
          "base_uri": "https://localhost:8080/"
        },
        "id": "de6wY1udq129",
        "outputId": "5c972d60-067b-484c-a2a6-e6c4aa3a15f5"
      },
      "execution_count": null,
      "outputs": [
        {
          "output_type": "stream",
          "name": "stdout",
          "text": [
            "even numbers: [np.int64(2)]\n"
          ]
        }
      ]
    },
    {
      "cell_type": "code",
      "source": [
        "from functools import reduce\n",
        "def sum_all(a,b):\n",
        "  return a+b\n",
        "num=[1,2,3,4]\n",
        "sum=reduce(sum_all,num)\n",
        "print(sum)"
      ],
      "metadata": {
        "colab": {
          "base_uri": "https://localhost:8080/"
        },
        "id": "4FCY3WYqrchs",
        "outputId": "a4451a35-ae28-4e6f-a348-4120b7f369a3"
      },
      "execution_count": null,
      "outputs": [
        {
          "output_type": "stream",
          "name": "stdout",
          "text": [
            "10\n"
          ]
        }
      ]
    },
    {
      "cell_type": "code",
      "source": [
        "import pandas as pd\n",
        "data={\n",
        "    'name':['alice','bob','charlie'],\n",
        "    'age':[25,30,35],\n",
        "    'city':['delhi','mumbai','bengalore']\n",
        "    }\n",
        "df=pd.DataFrame(data)\n",
        "print(df)"
      ],
      "metadata": {
        "colab": {
          "base_uri": "https://localhost:8080/"
        },
        "id": "hUuGgf7Kr4i8",
        "outputId": "aa5ccd4a-324e-425b-ac2e-19c218b79f6a"
      },
      "execution_count": null,
      "outputs": [
        {
          "output_type": "stream",
          "name": "stdout",
          "text": [
            "      name  age       city\n",
            "0    alice   25      delhi\n",
            "1      bob   30     mumbai\n",
            "2  charlie   35  bengalore\n"
          ]
        }
      ]
    },
    {
      "cell_type": "code",
      "source": [
        "import pandas as pd\n",
        "data={'name':['tom','nick','krish','jack'],\n",
        "      'age':[20,21,19,18]}\n",
        "df=pd.DataFrame(data)\n",
        "print(df)"
      ],
      "metadata": {
        "colab": {
          "base_uri": "https://localhost:8080/"
        },
        "id": "Fi8FbiAIxEYm",
        "outputId": "1d107769-4763-4b8e-bc0e-4fd1cc933ae7"
      },
      "execution_count": null,
      "outputs": [
        {
          "output_type": "stream",
          "name": "stdout",
          "text": [
            "    name  age\n",
            "0    tom   20\n",
            "1   nick   21\n",
            "2  krish   19\n",
            "3   jack   18\n"
          ]
        }
      ]
    },
    {
      "cell_type": "code",
      "source": [
        "import pandas as pd\n",
        "data={\n",
        "    'department':['HR','HR','IT','IT','FINANCE','FINANCE'],\n",
        "    'employee':['alice','bob','charlie','david','eva','frank'],\n",
        "    'salary':[50000,55000,60000,65000,70000,75000],\n",
        "    'age':[25,30,28,32,40,38]\n",
        "    }\n",
        "df=pd.DataFrame(data)\n",
        "print(df)\n"
      ],
      "metadata": {
        "colab": {
          "base_uri": "https://localhost:8080/"
        },
        "id": "VoS7auUOxQxx",
        "outputId": "17199700-9ff8-4bdc-978f-092b88fb8795"
      },
      "execution_count": null,
      "outputs": [
        {
          "output_type": "stream",
          "name": "stdout",
          "text": [
            "  department employee  salary  age\n",
            "0         HR    alice   50000   25\n",
            "1         HR      bob   55000   30\n",
            "2         IT  charlie   60000   28\n",
            "3         IT    david   65000   32\n",
            "4    FINANCE      eva   70000   40\n",
            "5    FINANCE    frank   75000   38\n"
          ]
        }
      ]
    },
    {
      "cell_type": "code",
      "source": [
        "from functools import reduce\n",
        "import numpy as np\n",
        "arr=np.array([1,2,3,4])\n",
        "total=reduce(lambda x,y:x+y,arr)\n",
        "print(\"sum using reduce:\",total)"
      ],
      "metadata": {
        "id": "_Vzaj4YZ0A8P",
        "colab": {
          "base_uri": "https://localhost:8080/"
        },
        "outputId": "de302da4-4f75-408b-ba5c-77aaf7ba8c0b"
      },
      "execution_count": null,
      "outputs": [
        {
          "output_type": "stream",
          "name": "stdout",
          "text": [
            "sum using reduce: 10\n"
          ]
        }
      ]
    },
    {
      "cell_type": "code",
      "source": [
        "import pandas as pd\n",
        "data={\n",
        "    'department':['HR','HR','IT','IT','FINANCE','FINANCE'],\n",
        "    'employee':['alice','bob','charlie','david','eva','frank'],\n",
        "    'salary':[50000,55000,60000,65000,70000,75000],\n",
        "    'age':[25,30,28,32,40,38]\n",
        "}\n",
        "df=pd.DataFrame(data)\n",
        "print(df['salary'].mean())\n",
        "print(df['age'].max())"
      ],
      "metadata": {
        "colab": {
          "base_uri": "https://localhost:8080/"
        },
        "id": "AtabI12mptlY",
        "outputId": "5310be82-f568-4e8f-e7ec-69355fb5ff1a"
      },
      "execution_count": null,
      "outputs": [
        {
          "output_type": "stream",
          "name": "stdout",
          "text": [
            "62500.0\n",
            "40\n"
          ]
        }
      ]
    },
    {
      "cell_type": "code",
      "source": [
        "import pandas as pd\n",
        "data={\n",
        "    'department':['HR','HR','IT','IT','FINANCE','FINANCE'],\n",
        "    'employee':['alice','bob','charlie','david','eva','frank'],\n",
        "    'salary':[50000,55000,60000,65000,70000,75000],\n",
        "    'age':[25,30,28,32,40,38]\n",
        "}\n",
        "df=pd.DataFrame(data)\n",
        "grouped=df.groupby('department')['salary'].agg(['mean','max','min'])\n",
        "print(grouped)"
      ],
      "metadata": {
        "colab": {
          "base_uri": "https://localhost:8080/"
        },
        "id": "f99kCrQeqcQF",
        "outputId": "c481f9b5-bbc1-4924-ca44-aa1b9fb34c7b"
      },
      "execution_count": null,
      "outputs": [
        {
          "output_type": "stream",
          "name": "stdout",
          "text": [
            "               mean    max    min\n",
            "department                       \n",
            "FINANCE     72500.0  75000  70000\n",
            "HR          52500.0  55000  50000\n",
            "IT          62500.0  65000  60000\n"
          ]
        }
      ]
    },
    {
      "cell_type": "code",
      "source": [
        "df['location']=['mumbai','delhi','mumbai','delhi', 'mumbai', 'delhi']\n",
        "grouped=df.groupby(['department','location'])['salary'].mean()\n",
        "print(grouped)"
      ],
      "metadata": {
        "colab": {
          "base_uri": "https://localhost:8080/"
        },
        "id": "a84FxoBDrt5D",
        "outputId": "b34310d9-7886-4290-d79c-33e99756ecce"
      },
      "execution_count": null,
      "outputs": [
        {
          "output_type": "stream",
          "name": "stdout",
          "text": [
            "department  location\n",
            "FINANCE     delhi       75000.0\n",
            "            mumbai      70000.0\n",
            "HR          delhi       55000.0\n",
            "            mumbai      50000.0\n",
            "IT          delhi       65000.0\n",
            "            mumbai      60000.0\n",
            "Name: salary, dtype: float64\n"
          ]
        }
      ]
    },
    {
      "cell_type": "code",
      "source": [
        "import pandas as pd\n",
        "data={\n",
        "    'department':['HR','HR','IT','IT','FINANCE','FINANCE'],\n",
        "    'employee':['alice','bob','charlie','david','eva','frank'],\n",
        "    'salary':[50000,55000,60000,65000,70000,75000],\n",
        "    'age':[25,30,28,32,40,38]\n",
        "}\n",
        "result=df.groupby('department').agg({\n",
        "    'salary':'mean',\n",
        "    'age':'max'\n",
        "})\n",
        "print(result)"
      ],
      "metadata": {
        "colab": {
          "base_uri": "https://localhost:8080/"
        },
        "id": "iMEKvB0EuRfW",
        "outputId": "4b63c9f7-b09d-4b27-eef3-195f64503399"
      },
      "execution_count": null,
      "outputs": [
        {
          "output_type": "stream",
          "name": "stdout",
          "text": [
            "             salary  age\n",
            "department              \n",
            "FINANCE     72500.0   40\n",
            "HR          52500.0   30\n",
            "IT          62500.0   32\n"
          ]
        }
      ]
    },
    {
      "cell_type": "code",
      "source": [
        "\n",
        "import pandas as pd\n",
        "d1={'name':['pankaj','lisa','david'],\n",
        "    'id':[1,2,3],\n",
        "    'role':['editor','ceo','author']}\n",
        "df=pd.DataFrame(d1)\n",
        "print(df)\n",
        "df_melted=pd.melt(df,id_vars=['id'],value_vars=['name','role'])\n",
        "print(df_melted)"
      ],
      "metadata": {
        "colab": {
          "base_uri": "https://localhost:8080/"
        },
        "id": "DlqeJuHWumeP",
        "outputId": "a4e888ad-53b6-4ab7-f6f3-7327e5dc82f0"
      },
      "execution_count": null,
      "outputs": [
        {
          "output_type": "stream",
          "name": "stdout",
          "text": [
            "     name  id    role\n",
            "0  pankaj   1  editor\n",
            "1    lisa   2     ceo\n",
            "2   david   3  author\n",
            "   id variable   value\n",
            "0   1     name  pankaj\n",
            "1   2     name    lisa\n",
            "2   3     name   david\n",
            "3   1     role  editor\n",
            "4   2     role     ceo\n",
            "5   3     role  author\n"
          ]
        }
      ]
    },
    {
      "cell_type": "code",
      "source": [
        "import pandas as pd\n",
        "data={\n",
        "    'date':['2024-01-01','2024-01-02','2024-01-03','2024-01-04'],\n",
        "    'city':['delhi','mumbai','delhi','mumbai'],\n",
        "    'temperature':[30,35,28,32],\n",
        "}\n",
        "df=pd.DataFrame(data)\n",
        "print(\"original :/n\",df)\n",
        "pivoted=df.pivot(index='date',columns='city',values='temperature')\n",
        "print(\"pivoted:/n\",pivoted)"
      ],
      "metadata": {
        "colab": {
          "base_uri": "https://localhost:8080/"
        },
        "id": "wzsxzdn7ya4x",
        "outputId": "026e875e-f158-4ca2-c5ce-2afffe188d3f"
      },
      "execution_count": null,
      "outputs": [
        {
          "output_type": "stream",
          "name": "stdout",
          "text": [
            "original :/n          date    city  temperature\n",
            "0  2024-01-01   delhi           30\n",
            "1  2024-01-02  mumbai           35\n",
            "2  2024-01-03   delhi           28\n",
            "3  2024-01-04  mumbai           32\n",
            "pivoted:/n city        delhi  mumbai\n",
            "date                     \n",
            "2024-01-01   30.0     NaN\n",
            "2024-01-02    NaN    35.0\n",
            "2024-01-03   28.0     NaN\n",
            "2024-01-04    NaN    32.0\n"
          ]
        }
      ]
    },
    {
      "cell_type": "code",
      "source": [
        "import pandas as pd\n",
        "data={\n",
        "    'name':['alice','bob','charlie'],\n",
        "    'math':[85,90,78],\n",
        "    'science':[92,88,78],\n",
        "    'english':[75,80,72]\n",
        "}\n",
        "df=pd.DataFrame(data)\n",
        "print(\"original wide dataframe:/n\",df)"
      ],
      "metadata": {
        "colab": {
          "base_uri": "https://localhost:8080/"
        },
        "id": "6hICIHqr0SeN",
        "outputId": "55337b14-f675-412c-b354-822f5394e6a7"
      },
      "execution_count": null,
      "outputs": [
        {
          "output_type": "stream",
          "name": "stdout",
          "text": [
            "original wide dataframe:/n       name  math  science  english\n",
            "0    alice    85       92       75\n",
            "1      bob    90       88       80\n",
            "2  charlie    78       78       72\n"
          ]
        }
      ]
    },
    {
      "cell_type": "code",
      "source": [
        "melted_df=pd.melt(df,\n",
        "      id_vars=['name'],\n",
        "      var_name='subject',\n",
        "      value_name='marks')\n",
        "print(\"\\n melted long dataframe:\\n\",melted_df)"
      ],
      "metadata": {
        "colab": {
          "base_uri": "https://localhost:8080/"
        },
        "id": "GlC98oU11wIL",
        "outputId": "46b8a658-b75b-4c61-e0ae-908d8ca3236e"
      },
      "execution_count": null,
      "outputs": [
        {
          "output_type": "stream",
          "name": "stdout",
          "text": [
            "\n",
            " melted long dataframe:\n",
            "       name  subject  marks\n",
            "0    alice     math     85\n",
            "1      bob     math     90\n",
            "2  charlie     math     78\n",
            "3    alice  science     92\n",
            "4      bob  science     88\n",
            "5  charlie  science     78\n",
            "6    alice  english     75\n",
            "7      bob  english     80\n",
            "8  charlie  english     72\n"
          ]
        }
      ]
    },
    {
      "cell_type": "code",
      "source": [
        "import pandas as pd\n",
        "import numpy as np\n",
        "dates=pd.date_range(start='2024-01-01',periods=10,freq='d')\n",
        "ts=pd.Series(np.random.randint(100,200,size=10),index=dates)\n",
        "print(ts)"
      ],
      "metadata": {
        "colab": {
          "base_uri": "https://localhost:8080/"
        },
        "id": "Fj7NhUHA3TK6",
        "outputId": "b06ac496-e830-444c-ff80-ad14ee526081"
      },
      "execution_count": null,
      "outputs": [
        {
          "output_type": "stream",
          "name": "stdout",
          "text": [
            "2024-01-01    151\n",
            "2024-01-02    159\n",
            "2024-01-03    188\n",
            "2024-01-04    172\n",
            "2024-01-05    161\n",
            "2024-01-06    152\n",
            "2024-01-07    126\n",
            "2024-01-08    139\n",
            "2024-01-09    122\n",
            "2024-01-10    139\n",
            "Freq: D, dtype: int64\n"
          ]
        }
      ]
    },
    {
      "cell_type": "code",
      "source": [
        "import pandas as pd\n",
        "import numpy as np\n",
        "data=({'date':['2024-01-01','2024-01-02','2024-01-03'],\n",
        "    'value':[120,135,150]})\n",
        "df=pd.DataFrame(data)\n",
        "df['date']=pd.to_datetime(df['date'])\n",
        "print(df)"
      ],
      "metadata": {
        "id": "O45ErWoK93PP",
        "colab": {
          "base_uri": "https://localhost:8080/"
        },
        "outputId": "f9f80219-f93f-4145-a8a5-1c0ce9f0d275"
      },
      "execution_count": null,
      "outputs": [
        {
          "output_type": "stream",
          "name": "stdout",
          "text": [
            "        date  value\n",
            "0 2024-01-01    120\n",
            "1 2024-01-02    135\n",
            "2 2024-01-03    150\n"
          ]
        }
      ]
    },
    {
      "cell_type": "code",
      "source": [
        "import pandas as pd\n",
        "import numpy as np\n",
        "data=({'date':['2024-01-01','2024-01-02','2024-01-03'],\n",
        "    'value':[120,135,150]})\n",
        "df=pd.DataFrame(data)\n",
        "df.set_index('date',inplace=True)\n",
        "print(df)"
      ],
      "metadata": {
        "colab": {
          "base_uri": "https://localhost:8080/"
        },
        "id": "abnY2dMWESft",
        "outputId": "c2c53dd3-499e-44e9-c0d3-d3636ecd46c7"
      },
      "execution_count": null,
      "outputs": [
        {
          "output_type": "stream",
          "name": "stdout",
          "text": [
            "            value\n",
            "date             \n",
            "2024-01-01    120\n",
            "2024-01-02    135\n",
            "2024-01-03    150\n"
          ]
        }
      ]
    },
    {
      "cell_type": "code",
      "source": [
        "import pandas as pd\n",
        "import numpy as np\n",
        "from functools import reduce\n",
        "df=pd.DataFrame({\n",
        "    'name':['alice','bob','charlie'],\n",
        "    'age':[25,30,35],\n",
        "    'salary':[50000,60000,70000]\n",
        "})\n",
        "print(df)"
      ],
      "metadata": {
        "colab": {
          "base_uri": "https://localhost:8080/"
        },
        "id": "I7TuuuMx7jOS",
        "outputId": "11a45560-23f1-453a-f0b6-d4ba9ac39ba8"
      },
      "execution_count": null,
      "outputs": [
        {
          "output_type": "stream",
          "name": "stdout",
          "text": [
            "      name  age  salary\n",
            "0    alice   25   50000\n",
            "1      bob   30   60000\n",
            "2  charlie   35   70000\n"
          ]
        }
      ]
    },
    {
      "cell_type": "code",
      "source": [
        "import pandas as pd\n",
        "import numpy as np\n",
        "from functools import reduce\n",
        "df=pd.DataFrame({\n",
        "    'name':['alice','bob','charlie'],\n",
        "    'age':[25,30,35],\n",
        "    'salary':[50000,60000,70000]\n",
        "})\n",
        "df['updated_salary']=df['salary'].apply(lambda x:x*1.10)\n",
        "df['age_group']=df['age'].apply(lambda x:'young' if x<30 else 'adult')\n",
        "print(df)"
      ],
      "metadata": {
        "colab": {
          "base_uri": "https://localhost:8080/"
        },
        "id": "861ZM_bA-xUI",
        "outputId": "dea22c4d-1c73-4315-8169-72e8c8f4fa7d"
      },
      "execution_count": null,
      "outputs": [
        {
          "output_type": "stream",
          "name": "stdout",
          "text": [
            "      name  age  salary  updated_salary age_group\n",
            "0    alice   25   50000         55000.0     young\n",
            "1      bob   30   60000         66000.0     adult\n",
            "2  charlie   35   70000         77000.0     adult\n"
          ]
        }
      ]
    },
    {
      "cell_type": "code",
      "source": [
        "import pandas as pd\n",
        "import numpy as np\n",
        "from functools import reduce\n",
        "df=pd.DataFrame({\n",
        "    'name':['alice','bob','charlie'],\n",
        "    'age':[25,30,35],\n",
        "    'salary':[50000,60000,70000]\n",
        "})\n",
        "df['name_upper']=df['name'].map(lambda x:x.upper())\n",
        "salary_levels={50000:'low',55000:'medium',60000:'high'}\n",
        "df['salary_level']=df['salary'].map(salary_levels)\n",
        "print(df)"
      ],
      "metadata": {
        "colab": {
          "base_uri": "https://localhost:8080/"
        },
        "id": "DJ7VEHMyAdw8",
        "outputId": "f748b1a4-a58b-414a-9c60-444216ecfa48"
      },
      "execution_count": null,
      "outputs": [
        {
          "output_type": "stream",
          "name": "stdout",
          "text": [
            "      name  age  salary name_upper salary_level\n",
            "0    alice   25   50000      ALICE          low\n",
            "1      bob   30   60000        BOB         high\n",
            "2  charlie   35   70000    CHARLIE          NaN\n"
          ]
        }
      ]
    },
    {
      "cell_type": "code",
      "source": [
        "import pandas as pd\n",
        "import numpy as np\n",
        "from functools import reduce\n",
        "df=pd.DataFrame({\n",
        "    'name':['alice','bob','charlie'],\n",
        "    'age':[25,30,35],\n",
        "    'salary':[50000,60000,70000]\n",
        "})\n",
        "filtered_df=df[df['salary']>52000]\n",
        "filtered_df=df['name'].apply(lambda x:x.startswith('a'))\n",
        "print(df)"
      ],
      "metadata": {
        "colab": {
          "base_uri": "https://localhost:8080/"
        },
        "id": "vot6zQt2DWxy",
        "outputId": "00414733-d5dd-4d27-e7ad-e5537cf2e176"
      },
      "execution_count": null,
      "outputs": [
        {
          "output_type": "stream",
          "name": "stdout",
          "text": [
            "      name  age  salary\n",
            "0    alice   25   50000\n",
            "1      bob   30   60000\n",
            "2  charlie   35   70000\n"
          ]
        }
      ]
    },
    {
      "cell_type": "code",
      "source": [
        "import pandas as pd\n",
        "import numpy as np\n",
        "from functools import reduce\n",
        "df=pd.DataFrame({\n",
        "    'name':['alice','bob','charlie'],\n",
        "    'age':[25,30,35],\n",
        "    'salary':[50000,60000,70000]\n",
        "})\n",
        "df['name_age']=df.apply(lambda row:reduce(lambda a,b: str(a)+'_'+ str(b),[row['name'],row['age']]),axis=1)\n",
        "print(df)"
      ],
      "metadata": {
        "id": "PNr4Wj98E4Ne",
        "colab": {
          "base_uri": "https://localhost:8080/"
        },
        "outputId": "bc6e5895-3a83-4e26-c985-ae645ec8e91d"
      },
      "execution_count": null,
      "outputs": [
        {
          "output_type": "stream",
          "name": "stdout",
          "text": [
            "      name  age  salary    name_age\n",
            "0    alice   25   50000    alice_25\n",
            "1      bob   30   60000      bob_30\n",
            "2  charlie   35   70000  charlie_35\n"
          ]
        }
      ]
    },
    {
      "cell_type": "code",
      "source": [
        "import matplotlib.pyplot as plt\n",
        "categories=['categary a','category b','category c']\n",
        "amounts=[25,50,30]\n",
        "plt.bar(categories,amounts)\n",
        "plt.xlabel('categories')\n",
        "plt.ylabel('amount')\n",
        "plt.title('bar chart of amount by categories')\n",
        "plt.show()"
      ],
      "metadata": {
        "colab": {
          "base_uri": "https://localhost:8080/",
          "height": 472
        },
        "id": "9c7K-yRkI0UU",
        "outputId": "5072d701-eae6-443f-bf80-2362eb6661ee"
      },
      "execution_count": null,
      "outputs": [
        {
          "output_type": "display_data",
          "data": {
            "text/plain": [
              "<Figure size 640x480 with 1 Axes>"
            ],
            "image/png": "[encoded data removed]"
          },
          "metadata": {}
        }
      ]
    },
    {
      "cell_type": "code",
      "source": [
        "import matplotlib.pyplot as plt\n",
        "categories=['categary a','category b','category c']\n",
        "amounts=[25,50,30]\n",
        "plt.pie(amounts,labels=categories,autopct='%1.1f%%')\n",
        "plt.title('pie chart of amount by categories')\n",
        "plt.show()"
      ],
      "metadata": {
        "id": "KT-b6vf2Kt1G",
        "colab": {
          "base_uri": "https://localhost:8080/",
          "height": 428
        },
        "outputId": "8e89992c-00ef-4184-90ee-72259ee06492"
      },
      "execution_count": null,
      "outputs": [
        {
          "output_type": "display_data",
          "data": {
            "text/plain": [
              "<Figure size 640x480 with 1 Axes>"
            ],
            "image/png": "[encoded data removed]"
          },
          "metadata": {}
        }
      ]
    },
    {
      "cell_type": "code",
      "source": [
        "import matplotlib.pyplot as plt\n",
        "years=[2010,2011,2012,2013,2014]\n",
        "amounts=[100,120,140,110,150]\n",
        "plt.plot(years,amounts,marker='o',linestyle='-')\n",
        "plt.xlabel('years')\n",
        "plt.ylabel('amounts')\n",
        "plt.title('line chart of amount over time')\n",
        "plt.grid(True)\n",
        "plt.show()"
      ],
      "metadata": {
        "colab": {
          "base_uri": "https://localhost:8080/",
          "height": 472
        },
        "id": "Pmnw8Nd9y8py",
        "outputId": "85b181cd-b7f4-44be-9934-ff4d9e3e360f"
      },
      "execution_count": null,
      "outputs": [
        {
          "output_type": "display_data",
          "data": {
            "text/plain": [
              "<Figure size 640x480 with 1 Axes>"
            ],
            "image/png": "[encoded data removed]"
          },
          "metadata": {}
        }
      ]
    },
    {
      "cell_type": "code",
      "source": [
        "import matplotlib.pyplot as plt\n",
        "x=[10,20,30,40,50,]\n",
        "y=[50,40,30,20,10]\n",
        "plt.scatter(x,y)\n",
        "plt.xlabel('x-axis')\n",
        "plt.ylabel('y-axis')\n",
        "plt.title('scatter plot of xvsy')\n",
        "plt.grid(True)\n",
        "plt.show()"
      ],
      "metadata": {
        "colab": {
          "base_uri": "https://localhost:8080/",
          "height": 472
        },
        "id": "TUEYG8g21BvH",
        "outputId": "8929ddd4-3e8d-4b47-d734-e2b54104a15c"
      },
      "execution_count": null,
      "outputs": [
        {
          "output_type": "display_data",
          "data": {
            "text/plain": [
              "<Figure size 640x480 with 1 Axes>"
            ],
            "image/png": "[encoded data removed]"
          },
          "metadata": {}
        }
      ]
    },
    {
      "cell_type": "code",
      "source": [
        "import matplotlib.pyplot as plt\n",
        "import numpy as np\n",
        "data=np.random.randn(1000)\n",
        "plt.hist(data,bins=30,edgecolor='k')\n",
        "plt.xlabel('value')\n",
        "plt.ylabel('frequency')\n",
        "plt.title('histogram of  data')\n",
        "plt.grid(True)\n",
        "plt.show()"
      ],
      "metadata": {
        "colab": {
          "base_uri": "https://localhost:8080/",
          "height": 472
        },
        "id": "19MpaGhZ5sTP",
        "outputId": "4fdeaa09-4a76-4180-a962-23760c536f34"
      },
      "execution_count": null,
      "outputs": [
        {
          "output_type": "display_data",
          "data": {
            "text/plain": [
              "<Figure size 640x480 with 1 Axes>"
            ],
            "image/png": "[encoded data removed]"
          },
          "metadata": {}
        }
      ]
    },
    {
      "cell_type": "code",
      "source": [
        "import numpy as np\n",
        "import matplotlib.pyplot as plt\n",
        "mu,sigma=0,1\n",
        "data=np.random.normal(mu,sigma,1000)\n",
        "plt.hist(data,bins=30,edgecolor='k',alpha=0.7)\n",
        "plt.xlabel('value')\n",
        "plt.ylabel('frequency')\n",
        "plt.title('histogram of a normal distribution')\n",
        "plt.grid(True)\n",
        "plt.show()"
      ],
      "metadata": {
        "colab": {
          "base_uri": "https://localhost:8080/",
          "height": 472
        },
        "id": "R4by0fzK8mys",
        "outputId": "c388a644-0905-46cd-9912-50784aa8c3f0"
      },
      "execution_count": null,
      "outputs": [
        {
          "output_type": "display_data",
          "data": {
            "text/plain": [
              "<Figure size 640x480 with 1 Axes>"
            ],
            "image/png": "[encoded data removed]"
          },
          "metadata": {}
        }
      ]
    },
    {
      "cell_type": "code",
      "source": [
        "import numpy as np\n",
        "import matplotlib.pyplot as plt\n",
        "low,high=0,10\n",
        "data=np.random.uniform(low,high,1000)\n",
        "plt.hist(data,bins=30,edgecolor='k',alpha=0.7)\n",
        "plt.xlabel('value')\n",
        "plt.ylabel('frequency')\n",
        "plt.title('histogram of a uniform distribution')\n",
        "plt.grid(True)\n",
        "plt.show()"
      ],
      "metadata": {
        "colab": {
          "base_uri": "https://localhost:8080/",
          "height": 472
        },
        "id": "jQRMFS3p9-S6",
        "outputId": "b2315a28-719c-4bcf-ec77-0b13b6db7730"
      },
      "execution_count": null,
      "outputs": [
        {
          "output_type": "display_data",
          "data": {
            "text/plain": [
              "<Figure size 640x480 with 1 Axes>"
            ],
            "image/png": "[encoded data removed]"
          },
          "metadata": {}
        }
      ]
    },
    {
      "cell_type": "code",
      "source": [
        "import numpy as np\n",
        "import matplotlib.pyplot as plt\n",
        "scale=1.0\n",
        "data=np.random.exponential(scale,1000)\n",
        "plt.hist(data,bins=30,edgecolor='k',alpha=0.7)\n",
        "plt.xlabel('value')\n",
        "plt.ylabel('frequency')\n",
        "plt.title('histogram of a exponential distribution')\n",
        "plt.grid(True)\n",
        "plt.show()"
      ],
      "metadata": {
        "colab": {
          "base_uri": "https://localhost:8080/",
          "height": 472
        },
        "id": "neHcxkRF-rzo",
        "outputId": "603827fb-ce53-4f0b-e936-0c2666024a0a"
      },
      "execution_count": null,
      "outputs": [
        {
          "output_type": "display_data",
          "data": {
            "text/plain": [
              "<Figure size 640x480 with 1 Axes>"
            ],
            "image/png": "[encoded data removed]"
          },
          "metadata": {}
        }
      ]
    },
    {
      "cell_type": "code",
      "source": [
        "import numpy as np\n",
        "import matplotlib.pyplot as plt\n",
        "import seaborn as sns\n",
        "mu,sigma=0,1\n",
        "data=np.random.normal(mu,sigma,1000)\n",
        "sns.kdeplot(data,fill=True)\n",
        "plt.xlabel('value')\n",
        "plt.ylabel('density')\n",
        "plt.title('kernel density estimation of a normal distribution')\n",
        "plt.show()"
      ],
      "metadata": {
        "colab": {
          "base_uri": "https://localhost:8080/",
          "height": 472
        },
        "id": "-uCcpCKH_fkV",
        "outputId": "2dd29ed3-9deb-462a-d5d5-8d40e8f0388d"
      },
      "execution_count": null,
      "outputs": [
        {
          "output_type": "display_data",
          "data": {
            "text/plain": [
              "<Figure size 640x480 with 1 Axes>"
            ],
            "image/png": "[encoded data removed]"
          },
          "metadata": {}
        }
      ]
    },
    {
      "cell_type": "code",
      "source": [
        "import seaborn as sns\n",
        "data1=np.random.normal(0,1,1000)\n",
        "data2=np.random.normal(2,1,1000)\n",
        "sns.boxplot(data=[data1,data2])\n",
        "plt.xlabel('distribution')\n",
        "plt.ylabel('value')\n",
        "plt.title('box plot comparison of two normal distributions')\n",
        "plt.show()"
      ],
      "metadata": {
        "colab": {
          "base_uri": "https://localhost:8080/",
          "height": 472
        },
        "id": "08n0NmM6AtYk",
        "outputId": "e1bee4c6-458c-44c1-9a3d-c4b7aebcc323"
      },
      "execution_count": null,
      "outputs": [
        {
          "output_type": "display_data",
          "data": {
            "text/plain": [
              "<Figure size 640x480 with 1 Axes>"
            ],
            "image/png": "[encoded data removed]"
          },
          "metadata": {}
        }
      ]
    },
    {
      "cell_type": "code",
      "source": [
        "import seaborn as sns\n",
        "data1=np.random.normal(0,1,1000)\n",
        "data2=np.random.normal(2,1,1000)\n",
        "sns.violinplot(data=[data1,data2])\n",
        "plt.xlabel('distribution')\n",
        "plt.ylabel('value')\n",
        "plt.title('boxplot comparison of two distributions')\n",
        "plt.show()"
      ],
      "metadata": {
        "colab": {
          "base_uri": "https://localhost:8080/",
          "height": 472
        },
        "id": "sPCXH4j_B08c",
        "outputId": "f96c4452-751c-458c-d04c-9f49c8c14cdd"
      },
      "execution_count": null,
      "outputs": [
        {
          "output_type": "display_data",
          "data": {
            "text/plain": [
              "<Figure size 640x480 with 1 Axes>"
            ],
            "image/png": "[encoded data removed]"
          },
          "metadata": {}
        }
      ]
    },
    {
      "cell_type": "code",
      "source": [
        "import matplotlib.pyplot as plt\n",
        "categories=['categary a','category b','category c']\n",
        "amounts=[25,50,30]\n",
        "plt.bar(categories,amounts)\n",
        "plt.xlabel('categories')\n",
        "plt.ylabel('amount')\n",
        "plt.title('bar chart of amount by categories')"
      ],
      "metadata": {
        "colab": {
          "base_uri": "https://localhost:8080/",
          "height": 490
        },
        "id": "pQY7XepoCYyC",
        "outputId": "cc0c8a18-4f5a-4d0c-f723-e3e8e5d5a37d"
      },
      "execution_count": null,
      "outputs": [
        {
          "output_type": "execute_result",
          "data": {
            "text/plain": [
              "Text(0.5, 1.0, 'bar chart of amount by categories')"
            ]
          },
          "metadata": {},
          "execution_count": 30
        },
        {
          "output_type": "display_data",
          "data": {
            "text/plain": [
              "<Figure size 640x480 with 1 Axes>"
            ],
            "image/png": "[encoded data removed]"
          },
          "metadata": {}
        }
      ]
    },
    {
      "cell_type": "code",
      "source": [
        "import matplotlib.pyplot as plt\n",
        "categories=['categary a','category b','category c']\n",
        "proportion1=[0.2,0.4,0.1]\n",
        "proportion2=[0.3,0.2,0.5]\n",
        "plt.bar(categories,proportion1,label='group 1')\n",
        "plt.bar(categories,proportion2,bottom=proportion1,label='group 2')\n",
        "plt.xlabel('categories')\n",
        "plt.ylabel('proportion')\n",
        "plt.title('staked bar chart of proportions')\n",
        "plt.legend()\n",
        "plt.show()"
      ],
      "metadata": {
        "colab": {
          "base_uri": "https://localhost:8080/",
          "height": 472
        },
        "id": "_3Avj-EiHSIa",
        "outputId": "aa40fb4b-b860-4807-9e6b-0d750e03aab0"
      },
      "execution_count": null,
      "outputs": [
        {
          "output_type": "display_data",
          "data": {
            "text/plain": [
              "<Figure size 640x480 with 1 Axes>"
            ],
            "image/png": "[encoded data removed]"
          },
          "metadata": {}
        }
      ]
    },
    {
      "cell_type": "code",
      "source": [
        "import pandas as pd\n",
        "import matplotlib.pyplot as plt\n",
        "from sklearn.datasets import load_iris\n",
        "iris = load_iris()\n",
        "df = pd.DataFrame(data=iris.data, columns=iris.feature_names)\n",
        "x = df['sepal length (cm)']\n",
        "y = df['sepal width (cm)']\n",
        "plt.scatter(x, y)\n",
        "plt.xlabel('Sepal Length (cm)')\n",
        "plt.ylabel('Sepal Width (cm)')\n",
        "plt.title('Scatter Plot of Sepal Length vs Sepal Width')\n",
        "plt.show()\n"
      ],
      "metadata": {
        "id": "_YdEstYYJso2",
        "colab": {
          "base_uri": "https://localhost:8080/",
          "height": 472
        },
        "outputId": "b44554ad-f46a-4da2-e6e4-b54a9af2eb93"
      },
      "execution_count": null,
      "outputs": [
        {
          "output_type": "display_data",
          "data": {
            "text/plain": [
              "<Figure size 640x480 with 1 Axes>"
            ],
            "image/png": "[encoded data removed]"
          },
          "metadata": {}
        }
      ]
    },
    {
      "cell_type": "code",
      "source": [],
      "metadata": {
        "id": "WiykXh5f0yq4"
      },
      "execution_count": null,
      "outputs": []
    },
    {
      "cell_type": "code",
      "source": [
        "import pandas as pd\n",
        "df = pd.read_csv('Iris (1).csv')\n",
        "print(df.head())"
      ],
      "metadata": {
        "colab": {
          "base_uri": "https://localhost:8080/"
        },
        "id": "Ow8yNzG-mPVe",
        "outputId": "88dfa6f7-bfca-4130-ab69-77428d8a6290"
      },
      "execution_count": null,
      "outputs": [
        {
          "output_type": "stream",
          "name": "stdout",
          "text": [
            "   Id  SepalLengthCm  SepalWidthCm  PetalLengthCm  PetalWidthCm      Species\n",
            "0   1            5.1           3.5            1.4           0.2  Iris-setosa\n",
            "1   2            4.9           3.0            1.4           0.2  Iris-setosa\n",
            "2   3            4.7           3.2            1.3           0.2  Iris-setosa\n",
            "3   4            4.6           3.1            1.5           0.2  Iris-setosa\n",
            "4   5            5.0           3.6            1.4           0.2  Iris-setosa\n"
          ]
        }
      ]
    },
    {
      "cell_type": "code",
      "source": [
        "import pandas as pd\n",
        "import matplotlib.pyplot as plt\n",
        "file_path = 'Iris (1).csv'\n",
        "df = pd.read_csv(file_path)\n",
        "setosa_df = df[df['Species'] =='Iris-setosa']\n",
        "print(\"Iris-setosa data:\")\n",
        "print(setosa_df.head())\n",
        "plt.figure(figsize=(6,4))\n",
        "plt.scatter(setosa_df['PetalLengthCm'],setosa_df['PetalWidthCm'], color='green', label='Iris-setosa')\n",
        "plt.xlabel('Petal Length (cm)')\n",
        "plt.ylabel('Petal Width (cm)')\n",
        "plt.grid(True)\n",
        "plt.title('Scatter Plot of Petal Length vs Petal Width')\n",
        "plt.legend()\n",
        "plt.show()"
      ],
      "metadata": {
        "colab": {
          "base_uri": "https://localhost:8080/",
          "height": 532
        },
        "id": "fldnwCrFx0Js",
        "outputId": "c0604494-abfd-412d-c1ce-ad4c562726e6"
      },
      "execution_count": null,
      "outputs": [
        {
          "output_type": "stream",
          "name": "stdout",
          "text": [
            "Iris-setosa data:\n",
            "   Id  SepalLengthCm  SepalWidthCm  PetalLengthCm  PetalWidthCm      Species\n",
            "0   1            5.1           3.5            1.4           0.2  Iris-setosa\n",
            "1   2            4.9           3.0            1.4           0.2  Iris-setosa\n",
            "2   3            4.7           3.2            1.3           0.2  Iris-setosa\n",
            "3   4            4.6           3.1            1.5           0.2  Iris-setosa\n",
            "4   5            5.0           3.6            1.4           0.2  Iris-setosa\n"
          ]
        },
        {
          "output_type": "display_data",
          "data": {
            "text/plain": [
              "<Figure size 600x400 with 1 Axes>"
            ],
            "image/png": "[encoded data removed]"
          },
          "metadata": {}
        }
      ]
    },
    {
      "cell_type": "code",
      "source": [
        "from google.colab import files\n",
        "uploaded = files.upload()"
      ],
      "metadata": {
        "colab": {
          "base_uri": "https://localhost:8080/",
          "height": 73
        },
        "id": "elWcdcMC3QO2",
        "outputId": "8e450915-1a54-482f-e85a-d7918d1a87a2"
      },
      "execution_count": null,
      "outputs": [
        {
          "output_type": "display_data",
          "data": {
            "text/plain": [
              "<IPython.core.display.HTML object>"
            ],
            "text/html": [
              "\n",
              "     <input type=\"file\" id=\"files-819f58c0-3140-421b-9d84-74aa54c2b40f\" name=\"files[]\" multiple disabled\n",
              "        style=\"border:none\" />\n",
              "     <output id=\"result-819f58c0-3140-421b-9d84-74aa54c2b40f\">\n",
              "      Upload widget is only available when the cell has been executed in the\n",
              "      current browser session. Please rerun this cell to enable.\n",
              "      </output>\n",
              "      <script>// Copyright 2017 Google LLC\n",
              "//\n",
              "// Licensed under the Apache License, Version 2.0 (the \"License\");\n",
              "// you may not use this file except in compliance with the License.\n",
              "// You may obtain a copy of the License at\n",
              "//\n",
              "//      http://www.apache.org/licenses/LICENSE-2.0\n",
              "//\n",
              "// Unless required by applicable law or agreed to in writing, software\n",
              "// distributed under the License is distributed on an \"AS IS\" BASIS,\n",
              "// WITHOUT WARRANTIES OR CONDITIONS OF ANY KIND, either express or implied.\n",
              "// See the License for the specific language governing permissions and\n",
              "// limitations under the License.\n",
              "\n",
              "/**\n",
              " * @fileoverview Helpers for google.colab Python module.\n",
              " */\n",
              "(function(scope) {\n",
              "function span(text, styleAttributes = {}) {\n",
              "  const element = document.createElement('span');\n",
              "  element.textContent = text;\n",
              "  for (const key of Object.keys(styleAttributes)) {\n",
              "    element.style[key] = styleAttributes[key];\n",
              "  }\n",
              "  return element;\n",
              "}\n",
              "\n",
              "// Max number of bytes which will be uploaded at a time.\n",
              "const MAX_PAYLOAD_SIZE = 100 * 1024;\n",
              "\n",
              "function _uploadFiles(inputId, outputId) {\n",
              "  const steps = uploadFilesStep(inputId, outputId);\n",
              "  const outputElement = document.getElementById(outputId);\n",
              "  // Cache steps on the outputElement to make it available for the next call\n",
              "  // to uploadFilesContinue from Python.\n",
              "  outputElement.steps = steps;\n",
              "\n",
              "  return _uploadFilesContinue(outputId);\n",
              "}\n",
              "\n",
              "// This is roughly an async generator (not supported in the browser yet),\n",
              "// where there are multiple asynchronous steps and the Python side is going\n",
              "// to poll for completion of each step.\n",
              "// This uses a Promise to block the python side on completion of each step,\n",
              "// then passes the result of the previous step as the input to the next step.\n",
              "function _uploadFilesContinue(outputId) {\n",
              "  const outputElement = document.getElementById(outputId);\n",
              "  const steps = outputElement.steps;\n",
              "\n",
              "  const next = steps.next(outputElement.lastPromiseValue);\n",
              "  return Promise.resolve(next.value.promise).then((value) => {\n",
              "    // Cache the last promise value to make it available to the next\n",
              "    // step of the generator.\n",
              "    outputElement.lastPromiseValue = value;\n",
              "    return next.value.response;\n",
              "  });\n",
              "}\n",
              "\n",
              "/**\n",
              " * Generator function which is called between each async step of the upload\n",
              " * process.\n",
              " * @param {string} inputId Element ID of the input file picker element.\n",
              " * @param {string} outputId Element ID of the output display.\n",
              " * @return {!Iterable<!Object>} Iterable of next steps.\n",
              " */\n",
              "function* uploadFilesStep(inputId, outputId) {\n",
              "  const inputElement = document.getElementById(inputId);\n",
              "  inputElement.disabled = false;\n",
              "\n",
              "  const outputElement = document.getElementById(outputId);\n",
              "  outputElement.innerHTML = '';\n",
              "\n",
              "  const pickedPromise = new Promise((resolve) => {\n",
              "    inputElement.addEventListener('change', (e) => {\n",
              "      resolve(e.target.files);\n",
              "    });\n",
              "  });\n",
              "\n",
              "  const cancel = document.createElement('button');\n",
              "  inputElement.parentElement.appendChild(cancel);\n",
              "  cancel.textContent = 'Cancel upload';\n",
              "  const cancelPromise = new Promise((resolve) => {\n",
              "    cancel.onclick = () => {\n",
              "      resolve(null);\n",
              "    };\n",
              "  });\n",
              "\n",
              "  // Wait for the user to pick the files.\n",
              "  const files = yield {\n",
              "    promise: Promise.race([pickedPromise, cancelPromise]),\n",
              "    response: {\n",
              "      action: 'starting',\n",
              "    }\n",
              "  };\n",
              "\n",
              "  cancel.remove();\n",
              "\n",
              "  // Disable the input element since further picks are not allowed.\n",
              "  inputElement.disabled = true;\n",
              "\n",
              "  if (!files) {\n",
              "    return {\n",
              "      response: {\n",
              "        action: 'complete',\n",
              "      }\n",
              "    };\n",
              "  }\n",
              "\n",
              "  for (const file of files) {\n",
              "    const li = document.createElement('li');\n",
              "    li.append(span(file.name, {fontWeight: 'bold'}));\n",
              "    li.append(span(\n",
              "        `(${file.type || 'n/a'}) - ${file.size} bytes, ` +\n",
              "        `last modified: ${\n",
              "            file.lastModifiedDate ? file.lastModifiedDate.toLocaleDateString() :\n",
              "                                    'n/a'} - `));\n",
              "    const percent = span('0% done');\n",
              "    li.appendChild(percent);\n",
              "\n",
              "    outputElement.appendChild(li);\n",
              "\n",
              "    const fileDataPromise = new Promise((resolve) => {\n",
              "      const reader = new FileReader();\n",
              "      reader.onload = (e) => {\n",
              "        resolve(e.target.result);\n",
              "      };\n",
              "      reader.readAsArrayBuffer(file);\n",
              "    });\n",
              "    // Wait for the data to be ready.\n",
              "    let fileData = yield {\n",
              "      promise: fileDataPromise,\n",
              "      response: {\n",
              "        action: 'continue',\n",
              "      }\n",
              "    };\n",
              "\n",
              "    // Use a chunked sending to avoid message size limits. See b/62115660.\n",
              "    let position = 0;\n",
              "    do {\n",
              "      const length = Math.min(fileData.byteLength - position, MAX_PAYLOAD_SIZE);\n",
              "      const chunk = new Uint8Array(fileData, position, length);\n",
              "      position += length;\n",
              "\n",
              "      const base64 = btoa(String.fromCharCode.apply(null, chunk));\n",
              "      yield {\n",
              "        response: {\n",
              "          action: 'append',\n",
              "          file: file.name,\n",
              "          data: base64,\n",
              "        },\n",
              "      };\n",
              "\n",
              "      let percentDone = fileData.byteLength === 0 ?\n",
              "          100 :\n",
              "          Math.round((position / fileData.byteLength) * 100);\n",
              "      percent.textContent = `${percentDone}% done`;\n",
              "\n",
              "    } while (position < fileData.byteLength);\n",
              "  }\n",
              "\n",
              "  // All done.\n",
              "  yield {\n",
              "    response: {\n",
              "      action: 'complete',\n",
              "    }\n",
              "  };\n",
              "}\n",
              "\n",
              "scope.google = scope.google || {};\n",
              "scope.google.colab = scope.google.colab || {};\n",
              "scope.google.colab._files = {\n",
              "  _uploadFiles,\n",
              "  _uploadFilesContinue,\n",
              "};\n",
              "})(self);\n",
              "</script> "
            ]
          },
          "metadata": {}
        },
        {
          "output_type": "stream",
          "name": "stdout",
          "text": [
            "Saving Iris.csv to Iris (1).csv\n"
          ]
        }
      ]
    },
    {
      "cell_type": "code",
      "source": [
        "import pandas as pd\n",
        "\n",
        "df = pd.read_csv(\"Iris.csv\")\n",
        "df.head()\n"
      ],
      "metadata": {
        "colab": {
          "base_uri": "https://localhost:8080/",
          "height": 206
        },
        "id": "uCwYpSUf5D0M",
        "outputId": "5a3d1d70-1848-456f-b1da-bd6f2436ff31"
      },
      "execution_count": null,
      "outputs": [
        {
          "output_type": "execute_result",
          "data": {
            "text/plain": [
              "   Id  SepalLengthCm  SepalWidthCm  PetalLengthCm  PetalWidthCm      Species\n",
              "0   1            5.1           3.5            1.4           0.2  Iris-setosa\n",
              "1   2            4.9           3.0            1.4           0.2  Iris-setosa\n",
              "2   3            4.7           3.2            1.3           0.2  Iris-setosa\n",
              "3   4            4.6           3.1            1.5           0.2  Iris-setosa\n",
              "4   5            5.0           3.6            1.4           0.2  Iris-setosa"
            ],
            "text/html": [
              "\n",
              "  <div id=\"df-6a238cee-265e-4593-8b69-cdf5c1cc69d0\" class=\"colab-df-container\">\n",
              "    <div>\n",
              "<style scoped>\n",
              "    .dataframe tbody tr th:only-of-type {\n",
              "        vertical-align: middle;\n",
              "    }\n",
              "\n",
              "    .dataframe tbody tr th {\n",
              "        vertical-align: top;\n",
              "    }\n",
              "\n",
              "    .dataframe thead th {\n",
              "        text-align: right;\n",
              "    }\n",
              "</style>\n",
              "<table border=\"1\" class=\"dataframe\">\n",
              "  <thead>\n",
              "    <tr style=\"text-align: right;\">\n",
              "      <th></th>\n",
              "      <th>Id</th>\n",
              "      <th>SepalLengthCm</th>\n",
              "      <th>SepalWidthCm</th>\n",
              "      <th>PetalLengthCm</th>\n",
              "      <th>PetalWidthCm</th>\n",
              "      <th>Species</th>\n",
              "    </tr>\n",
              "  </thead>\n",
              "  <tbody>\n",
              "    <tr>\n",
              "      <th>0</th>\n",
              "      <td>1</td>\n",
              "      <td>5.1</td>\n",
              "      <td>3.5</td>\n",
              "      <td>1.4</td>\n",
              "      <td>0.2</td>\n",
              "      <td>Iris-setosa</td>\n",
              "    </tr>\n",
              "    <tr>\n",
              "      <th>1</th>\n",
              "      <td>2</td>\n",
              "      <td>4.9</td>\n",
              "      <td>3.0</td>\n",
              "      <td>1.4</td>\n",
              "      <td>0.2</td>\n",
              "      <td>Iris-setosa</td>\n",
              "    </tr>\n",
              "    <tr>\n",
              "      <th>2</th>\n",
              "      <td>3</td>\n",
              "      <td>4.7</td>\n",
              "      <td>3.2</td>\n",
              "      <td>1.3</td>\n",
              "      <td>0.2</td>\n",
              "      <td>Iris-setosa</td>\n",
              "    </tr>\n",
              "    <tr>\n",
              "      <th>3</th>\n",
              "      <td>4</td>\n",
              "      <td>4.6</td>\n",
              "      <td>3.1</td>\n",
              "      <td>1.5</td>\n",
              "      <td>0.2</td>\n",
              "      <td>Iris-setosa</td>\n",
              "    </tr>\n",
              "    <tr>\n",
              "      <th>4</th>\n",
              "      <td>5</td>\n",
              "      <td>5.0</td>\n",
              "      <td>3.6</td>\n",
              "      <td>1.4</td>\n",
              "      <td>0.2</td>\n",
              "      <td>Iris-setosa</td>\n",
              "    </tr>\n",
              "  </tbody>\n",
              "</table>\n",
              "</div>\n",
              "    <div class=\"colab-df-buttons\">\n",
              "\n",
              "  <div class=\"colab-df-container\">\n",
              "    <button class=\"colab-df-convert\" onclick=\"convertToInteractive('df-6a238cee-265e-4593-8b69-cdf5c1cc69d0')\"\n",
              "            title=\"Convert this dataframe to an interactive table.\"\n",
              "            style=\"display:none;\">\n",
              "\n",
              "  <svg xmlns=\"http://www.w3.org/2000/svg\" height=\"24px\" viewBox=\"0 -960 960 960\">\n",
              "    <path d=\"M120-120v-720h720v720H120Zm60-500h600v-160H180v160Zm220 220h160v-160H400v160Zm0 220h160v-160H400v160ZM180-400h160v-160H180v160Zm440 0h160v-160H620v160ZM180-180h160v-160H180v160Zm440 0h160v-160H620v160Z\"/>\n",
              "  </svg>\n",
              "    </button>\n",
              "\n",
              "  <style>\n",
              "    .colab-df-container {\n",
              "      display:flex;\n",
              "      gap: 12px;\n",
              "    }\n",
              "\n",
              "    .colab-df-convert {\n",
              "      background-color: #E8F0FE;\n",
              "      border: none;\n",
              "      border-radius: 50%;\n",
              "      cursor: pointer;\n",
              "      display: none;\n",
              "      fill: #1967D2;\n",
              "      height: 32px;\n",
              "      padding: 0 0 0 0;\n",
              "      width: 32px;\n",
              "    }\n",
              "\n",
              "    .colab-df-convert:hover {\n",
              "      background-color: #E2EBFA;\n",
              "      box-shadow: 0px 1px 2px rgba(60, 64, 67, 0.3), 0px 1px 3px 1px rgba(60, 64, 67, 0.15);\n",
              "      fill: #174EA6;\n",
              "    }\n",
              "\n",
              "    .colab-df-buttons div {\n",
              "      margin-bottom: 4px;\n",
              "    }\n",
              "\n",
              "    [theme=dark] .colab-df-convert {\n",
              "      background-color: #3B4455;\n",
              "      fill: #D2E3FC;\n",
              "    }\n",
              "\n",
              "    [theme=dark] .colab-df-convert:hover {\n",
              "      background-color: #434B5C;\n",
              "      box-shadow: 0px 1px 3px 1px rgba(0, 0, 0, 0.15);\n",
              "      filter: drop-shadow(0px 1px 2px rgba(0, 0, 0, 0.3));\n",
              "      fill: #FFFFFF;\n",
              "    }\n",
              "  </style>\n",
              "\n",
              "    <script>\n",
              "      const buttonEl =\n",
              "        document.querySelector('#df-6a238cee-265e-4593-8b69-cdf5c1cc69d0 button.colab-df-convert');\n",
              "      buttonEl.style.display =\n",
              "        google.colab.kernel.accessAllowed ? 'block' : 'none';\n",
              "\n",
              "      async function convertToInteractive(key) {\n",
              "        const element = document.querySelector('#df-6a238cee-265e-4593-8b69-cdf5c1cc69d0');\n",
              "        const dataTable =\n",
              "          await google.colab.kernel.invokeFunction('convertToInteractive',\n",
              "                                                    [key], {});\n",
              "        if (!dataTable) return;\n",
              "\n",
              "        const docLinkHtml = 'Like what you see? Visit the ' +\n",
              "          '<a target=\"_blank\" href=https://colab.research.google.com/notebooks/data_table.ipynb>data table notebook</a>'\n",
              "          + ' to learn more about interactive tables.';\n",
              "        element.innerHTML = '';\n",
              "        dataTable['output_type'] = 'display_data';\n",
              "        await google.colab.output.renderOutput(dataTable, element);\n",
              "        const docLink = document.createElement('div');\n",
              "        docLink.innerHTML = docLinkHtml;\n",
              "        element.appendChild(docLink);\n",
              "      }\n",
              "    </script>\n",
              "  </div>\n",
              "\n",
              "\n",
              "    <div id=\"df-fa751c60-a9a2-4700-95ba-e10e28eacfd9\">\n",
              "      <button class=\"colab-df-quickchart\" onclick=\"quickchart('df-fa751c60-a9a2-4700-95ba-e10e28eacfd9')\"\n",
              "                title=\"Suggest charts\"\n",
              "                style=\"display:none;\">\n",
              "\n",
              "<svg xmlns=\"http://www.w3.org/2000/svg\" height=\"24px\"viewBox=\"0 0 24 24\"\n",
              "     width=\"24px\">\n",
              "    <g>\n",
              "        <path d=\"M19 3H5c-1.1 0-2 .9-2 2v14c0 1.1.9 2 2 2h14c1.1 0 2-.9 2-2V5c0-1.1-.9-2-2-2zM9 17H7v-7h2v7zm4 0h-2V7h2v10zm4 0h-2v-4h2v4z\"/>\n",
              "    </g>\n",
              "</svg>\n",
              "      </button>\n",
              "\n",
              "<style>\n",
              "  .colab-df-quickchart {\n",
              "      --bg-color: #E8F0FE;\n",
              "      --fill-color: #1967D2;\n",
              "      --hover-bg-color: #E2EBFA;\n",
              "      --hover-fill-color: #174EA6;\n",
              "      --disabled-fill-color: #AAA;\n",
              "      --disabled-bg-color: #DDD;\n",
              "  }\n",
              "\n",
              "  [theme=dark] .colab-df-quickchart {\n",
              "      --bg-color: #3B4455;\n",
              "      --fill-color: #D2E3FC;\n",
              "      --hover-bg-color: #434B5C;\n",
              "      --hover-fill-color: #FFFFFF;\n",
              "      --disabled-bg-color: #3B4455;\n",
              "      --disabled-fill-color: #666;\n",
              "  }\n",
              "\n",
              "  .colab-df-quickchart {\n",
              "    background-color: var(--bg-color);\n",
              "    border: none;\n",
              "    border-radius: 50%;\n",
              "    cursor: pointer;\n",
              "    display: none;\n",
              "    fill: var(--fill-color);\n",
              "    height: 32px;\n",
              "    padding: 0;\n",
              "    width: 32px;\n",
              "  }\n",
              "\n",
              "  .colab-df-quickchart:hover {\n",
              "    background-color: var(--hover-bg-color);\n",
              "    box-shadow: 0 1px 2px rgba(60, 64, 67, 0.3), 0 1px 3px 1px rgba(60, 64, 67, 0.15);\n",
              "    fill: var(--button-hover-fill-color);\n",
              "  }\n",
              "\n",
              "  .colab-df-quickchart-complete:disabled,\n",
              "  .colab-df-quickchart-complete:disabled:hover {\n",
              "    background-color: var(--disabled-bg-color);\n",
              "    fill: var(--disabled-fill-color);\n",
              "    box-shadow: none;\n",
              "  }\n",
              "\n",
              "  .colab-df-spinner {\n",
              "    border: 2px solid var(--fill-color);\n",
              "    border-color: transparent;\n",
              "    border-bottom-color: var(--fill-color);\n",
              "    animation:\n",
              "      spin 1s steps(1) infinite;\n",
              "  }\n",
              "\n",
              "  @keyframes spin {\n",
              "    0% {\n",
              "      border-color: transparent;\n",
              "      border-bottom-color: var(--fill-color);\n",
              "      border-left-color: var(--fill-color);\n",
              "    }\n",
              "    20% {\n",
              "      border-color: transparent;\n",
              "      border-left-color: var(--fill-color);\n",
              "      border-top-color: var(--fill-color);\n",
              "    }\n",
              "    30% {\n",
              "      border-color: transparent;\n",
              "      border-left-color: var(--fill-color);\n",
              "      border-top-color: var(--fill-color);\n",
              "      border-right-color: var(--fill-color);\n",
              "    }\n",
              "    40% {\n",
              "      border-color: transparent;\n",
              "      border-right-color: var(--fill-color);\n",
              "      border-top-color: var(--fill-color);\n",
              "    }\n",
              "    60% {\n",
              "      border-color: transparent;\n",
              "      border-right-color: var(--fill-color);\n",
              "    }\n",
              "    80% {\n",
              "      border-color: transparent;\n",
              "      border-right-color: var(--fill-color);\n",
              "      border-bottom-color: var(--fill-color);\n",
              "    }\n",
              "    90% {\n",
              "      border-color: transparent;\n",
              "      border-bottom-color: var(--fill-color);\n",
              "    }\n",
              "  }\n",
              "</style>\n",
              "\n",
              "      <script>\n",
              "        async function quickchart(key) {\n",
              "          const quickchartButtonEl =\n",
              "            document.querySelector('#' + key + ' button');\n",
              "          quickchartButtonEl.disabled = true;  // To prevent multiple clicks.\n",
              "          quickchartButtonEl.classList.add('colab-df-spinner');\n",
              "          try {\n",
              "            const charts = await google.colab.kernel.invokeFunction(\n",
              "                'suggestCharts', [key], {});\n",
              "          } catch (error) {\n",
              "            console.error('Error during call to suggestCharts:', error);\n",
              "          }\n",
              "          quickchartButtonEl.classList.remove('colab-df-spinner');\n",
              "          quickchartButtonEl.classList.add('colab-df-quickchart-complete');\n",
              "        }\n",
              "        (() => {\n",
              "          let quickchartButtonEl =\n",
              "            document.querySelector('#df-fa751c60-a9a2-4700-95ba-e10e28eacfd9 button');\n",
              "          quickchartButtonEl.style.display =\n",
              "            google.colab.kernel.accessAllowed ? 'block' : 'none';\n",
              "        })();\n",
              "      </script>\n",
              "    </div>\n",
              "\n",
              "    </div>\n",
              "  </div>\n"
            ],
            "application/vnd.google.colaboratory.intrinsic+json": {
              "type": "dataframe",
              "variable_name": "df",
              "summary": "{\n  \"name\": \"df\",\n  \"rows\": 150,\n  \"fields\": [\n    {\n      \"column\": \"Id\",\n      \"properties\": {\n        \"dtype\": \"number\",\n        \"std\": 43,\n        \"min\": 1,\n        \"max\": 150,\n        \"num_unique_values\": 150,\n        \"samples\": [\n          74,\n          19,\n          119\n        ],\n        \"semantic_type\": \"\",\n        \"description\": \"\"\n      }\n    },\n    {\n      \"column\": \"SepalLengthCm\",\n      \"properties\": {\n        \"dtype\": \"number\",\n        \"std\": 0.8280661279778629,\n        \"min\": 4.3,\n        \"max\": 7.9,\n        \"num_unique_values\": 35,\n        \"samples\": [\n          6.2,\n          4.5,\n          5.6\n        ],\n        \"semantic_type\": \"\",\n        \"description\": \"\"\n      }\n    },\n    {\n      \"column\": \"SepalWidthCm\",\n      \"properties\": {\n        \"dtype\": \"number\",\n        \"std\": 0.4335943113621737,\n        \"min\": 2.0,\n        \"max\": 4.4,\n        \"num_unique_values\": 23,\n        \"samples\": [\n          2.3,\n          4.0,\n          3.5\n        ],\n        \"semantic_type\": \"\",\n        \"description\": \"\"\n      }\n    },\n    {\n      \"column\": \"PetalLengthCm\",\n      \"properties\": {\n        \"dtype\": \"number\",\n        \"std\": 1.7644204199522617,\n        \"min\": 1.0,\n        \"max\": 6.9,\n        \"num_unique_values\": 43,\n        \"samples\": [\n          6.7,\n          3.8,\n          3.7\n        ],\n        \"semantic_type\": \"\",\n        \"description\": \"\"\n      }\n    },\n    {\n      \"column\": \"PetalWidthCm\",\n      \"properties\": {\n        \"dtype\": \"number\",\n        \"std\": 0.7631607417008414,\n        \"min\": 0.1,\n        \"max\": 2.5,\n        \"num_unique_values\": 22,\n        \"samples\": [\n          0.2,\n          1.2,\n          1.3\n        ],\n        \"semantic_type\": \"\",\n        \"description\": \"\"\n      }\n    },\n    {\n      \"column\": \"Species\",\n      \"properties\": {\n        \"dtype\": \"category\",\n        \"num_unique_values\": 3,\n        \"samples\": [\n          \"Iris-setosa\",\n          \"Iris-versicolor\",\n          \"Iris-virginica\"\n        ],\n        \"semantic_type\": \"\",\n        \"description\": \"\"\n      }\n    }\n  ]\n}"
            }
          },
          "metadata": {},
          "execution_count": 24
        }
      ]
    },
    {
      "cell_type": "code",
      "source": [
        "import pandas as pd\n",
        "import matplotlib.pyplot as plt\n",
        "x=df['SepalLengthCm']\n",
        "y=df['SepalWidthCm']\n",
        "plt.scatter(x,y)\n",
        "plt.xlabel('sepal_length')\n",
        "plt.ylabel('sepal_width')\n",
        "plt.title('scatter plot for iris dataset')\n",
        "plt.show()"
      ],
      "metadata": {
        "colab": {
          "base_uri": "https://localhost:8080/",
          "height": 472
        },
        "id": "Ji5vsEqK5F35",
        "outputId": "6a298532-9aa0-4d4f-ffb5-cb79129b50e3"
      },
      "execution_count": null,
      "outputs": [
        {
          "output_type": "display_data",
          "data": {
            "text/plain": [
              "<Figure size 640x480 with 1 Axes>"
            ],
            "image/png": "[encoded data removed]"
          },
          "metadata": {}
        }
      ]
    },
    {
      "cell_type": "code",
      "source": [
        "from sklearn.datasets import load_iris\n",
        "import matplotlib.pyplot as plt\n",
        "iris = load_iris()\n",
        "sepal_lengths = iris.data[:, 0]\n",
        "species = iris.target\n",
        "plt.scatter(range(len(sepal_lengths)), sepal_lengths, c=species)\n",
        "plt.title(\"Sepal Length of Iris Flowers\")\n",
        "plt.xlabel(\"Sample Index\")\n",
        "plt.ylabel(\"Sepal Length (cm)\")\n",
        "plt.show()"
      ],
      "metadata": {
        "colab": {
          "base_uri": "https://localhost:8080/",
          "height": 472
        },
        "id": "KLsjN9jc5Kd5",
        "outputId": "33f870f2-aff3-4d60-d00f-de8e6fe18af8"
      },
      "execution_count": null,
      "outputs": [
        {
          "output_type": "display_data",
          "data": {
            "text/plain": [
              "<Figure size 640x480 with 1 Axes>"
            ],
            "image/png": "[encoded data removed]"
          },
          "metadata": {}
        }
      ]
    },
    {
      "cell_type": "code",
      "source": [
        "import pandas as pd\n",
        "import matplotlib.pyplot as plt\n",
        "import matplotlib.cm as cm\n",
        "import matplotlib.colors as colors\n",
        "file_path = \"Iris.csv\"\n",
        "df = pd.read_csv(file_path)\n",
        "setosa_df = df[df['Species'] == 'Iris-setosa'].reset_index(drop=True)\n",
        "norm = colors.Normalize(vmin=setosa_df['SepalWidthCm'].min(), vmax=setosa_df['SepalWidthCm'].max())\n",
        "mappable = cm.ScalarMappable(norm=norm, cmap='viridis')\n",
        "fig, ax = plt.subplots(figsize=(10, 5))\n",
        "bars = ax.bar(\n",
        "    setosa_df.index,\n",
        "    setosa_df['PetalLengthCm'],\n",
        "    color=mappable.to_rgba(setosa_df['SepalWidthCm'])\n",
        ")\n",
        "ax.set_title('Iris-setosa: Petal Length (Bar Chart Colored by Sepal Width)')\n",
        "ax.set_xlabel('Sample Index')\n",
        "ax.set_ylabel('Petal Length (cm)')\n",
        "fig.colorbar(mappable, ax=ax, label='Sepal Width (cm)')\n",
        "plt.tight_layout()\n",
        "plt.show()"
      ],
      "metadata": {
        "colab": {
          "base_uri": "https://localhost:8080/",
          "height": 507
        },
        "id": "hqX9yQg45Txc",
        "outputId": "370e031f-ee58-4c8c-9ef8-0e52198727b7"
      },
      "execution_count": null,
      "outputs": [
        {
          "output_type": "display_data",
          "data": {
            "text/plain": [
              "<Figure size 1000x500 with 2 Axes>"
            ],
            "image/png": "[encoded data removed]"
          },
          "metadata": {}
        }
      ]
    },
    {
      "cell_type": "code",
      "source": [],
      "metadata": {
        "id": "VQ_M2byTBWmW"
      },
      "execution_count": null,
      "outputs": []
    }
  ]
}