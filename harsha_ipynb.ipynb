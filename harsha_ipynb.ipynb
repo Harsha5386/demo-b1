{
  "nbformat": 4,
  "nbformat_minor": 0,
  "metadata": {
    "colab": {
      "provenance": [],
      "authorship_tag": "ABX9TyPWJuwavMc4+d1Y7yLe1D/Y",
      "include_colab_link": true
    },
    "kernelspec": {
      "name": "python3",
      "display_name": "Python 3"
    },
    "language_info": {
      "name": "python"
    }
  },
  "cells": [
    {
      "cell_type": "markdown",
      "metadata": {
        "id": "view-in-github",
        "colab_type": "text"
      },
      "source": [
        "<a href=\"https://colab.research.google.com/github/Harsha5386/demo-b1/blob/main/harsha_ipynb.ipynb\" target=\"_parent\"><img src=\"https://colab.research.google.com/assets/colab-badge.svg\" alt=\"Open In Colab\"/></a>"
      ]
    },
    {
      "cell_type": "code",
      "execution_count": null,
      "metadata": {
        "colab": {
          "base_uri": "https://localhost:8080/"
        },
        "id": "aNKbFK9_bKMR",
        "outputId": "7268de78-e3ed-48e2-9b88-aeec1588d7a7"
      },
      "outputs": [
        {
          "output_type": "stream",
          "name": "stdout",
          "text": [
            "odd\n",
            "even\n"
          ]
        }
      ],
      "source": [
        "check=lambda x: \"even\" if x % 2==0 else \"odd\"\n",
        "print(check(7))\n",
        "print(check(4))"
      ]
    },
    {
      "cell_type": "code",
      "source": [
        "calc=lambda x,y:(x+y,x*y)\n",
        "res=calc(3,4)\n",
        "print(res)\n"
      ],
      "metadata": {
        "colab": {
          "base_uri": "https://localhost:8080/"
        },
        "id": "6s2a2hT_bu4-",
        "outputId": "a5ffa7ed-f32b-4c15-93a0-32340e9b865d"
      },
      "execution_count": null,
      "outputs": [
        {
          "output_type": "stream",
          "name": "stdout",
          "text": [
            "(7, 12)\n"
          ]
        }
      ]
    },
    {
      "cell_type": "code",
      "source": [
        "n=[1,2,3,4,5,6]\n",
        "even=filter(lambda x:x%2==0,n)\n",
        "print(list(even))"
      ],
      "metadata": {
        "colab": {
          "base_uri": "https://localhost:8080/"
        },
        "id": "RVZhV3KUfKVy",
        "outputId": "eefa315e-3f25-4b17-b649-31b014c9533c"
      },
      "execution_count": null,
      "outputs": [
        {
          "output_type": "stream",
          "name": "stdout",
          "text": [
            "[2, 4, 6]\n"
          ]
        }
      ]
    },
    {
      "cell_type": "code",
      "source": [
        "a=[1,2,3,4]\n",
        "b=map(lambda x:x*2,a)\n",
        "print(list(b))"
      ],
      "metadata": {
        "colab": {
          "base_uri": "https://localhost:8080/"
        },
        "id": "FyrYGzHIftcx",
        "outputId": "7a63193a-0e56-46af-afd5-f9d3cca6119d"
      },
      "execution_count": null,
      "outputs": [
        {
          "output_type": "stream",
          "name": "stdout",
          "text": [
            "[2, 4, 6, 8]\n"
          ]
        }
      ]
    },
    {
      "cell_type": "code",
      "source": [
        "from functools import reduce\n",
        "\n",
        "a=[1,2,3,4]\n",
        "b=reduce(lambda x,y:x*y,a)\n",
        "print(b)"
      ],
      "metadata": {
        "colab": {
          "base_uri": "https://localhost:8080/"
        },
        "id": "qT--ut6KgCFR",
        "outputId": "b00af112-e337-42c2-a31c-ee3f7c5ae865"
      },
      "execution_count": null,
      "outputs": [
        {
          "output_type": "stream",
          "name": "stdout",
          "text": [
            "24\n"
          ]
        }
      ]
    },
    {
      "cell_type": "code",
      "source": [
        "import pandas as pd\n",
        "ds1=pd.Series([2,4,6,8,10])\n",
        "ds2=pd.Series([1,3,5,7,9])\n",
        "print(\"multiply two series:\")\n",
        "ds=ds1*ds2\n",
        "print(ds)\n",
        "print(\"divide series1 by series2:\")\n",
        "ds=ds1/ds2\n",
        "print(ds)"
      ],
      "metadata": {
        "colab": {
          "base_uri": "https://localhost:8080/"
        },
        "id": "BD5N1C7cga1x",
        "outputId": "24998f30-5243-41c5-c97b-3b0c9417a86c"
      },
      "execution_count": null,
      "outputs": [
        {
          "output_type": "stream",
          "name": "stdout",
          "text": [
            "multiply two series:\n",
            "0     2\n",
            "1    12\n",
            "2    30\n",
            "3    56\n",
            "4    90\n",
            "dtype: int64\n",
            "divide series1 by series2:\n",
            "0    2.000000\n",
            "1    1.333333\n",
            "2    1.200000\n",
            "3    1.142857\n",
            "4    1.111111\n",
            "dtype: float64\n"
          ]
        }
      ]
    },
    {
      "cell_type": "code",
      "source": [
        "import pandas as pd\n",
        "d1 = {'a':100,'b':200,'c':300}\n",
        "print(\"original dictionary:\")\n",
        "print(d1)\n",
        "new_series=pd.Series(d1)\n",
        "print(\"converted series:\")\n",
        "print(new_series)"
      ],
      "metadata": {
        "colab": {
          "base_uri": "https://localhost:8080/"
        },
        "id": "S_WkJonOhmRQ",
        "outputId": "a020dd39-1655-4254-f8ea-7b5abe95d523"
      },
      "execution_count": null,
      "outputs": [
        {
          "output_type": "stream",
          "name": "stdout",
          "text": [
            "original dictionary:\n",
            "{'a': 100, 'b': 200, 'c': 300}\n",
            "converted series:\n",
            "a    100\n",
            "b    200\n",
            "c    300\n",
            "dtype: int64\n"
          ]
        }
      ]
    },
    {
      "cell_type": "code",
      "source": [
        "import pandas as pd\n",
        "s=pd.Series([400,300,12,100,200])\n",
        "print(\"original data series:\")\n",
        "print(s)\n",
        "new_s=pd.Series(s).sort_values()\n",
        "print(new_s)"
      ],
      "metadata": {
        "colab": {
          "base_uri": "https://localhost:8080/"
        },
        "id": "tY-Rgz2_iNP_",
        "outputId": "2987a4c6-810c-4ede-9b9e-61bbf98849e7"
      },
      "execution_count": null,
      "outputs": [
        {
          "output_type": "stream",
          "name": "stdout",
          "text": [
            "original data series:\n",
            "0    400\n",
            "1    300\n",
            "2     12\n",
            "3    100\n",
            "4    200\n",
            "dtype: int64\n",
            "2     12\n",
            "3    100\n",
            "4    200\n",
            "1    300\n",
            "0    400\n",
            "dtype: int64\n"
          ]
        }
      ]
    },
    {
      "cell_type": "code",
      "source": [
        "import pandas as pd\n",
        "s=pd.Series(data=[1,2,3],index=['a','b','c'])\n",
        "print(s)\n",
        "s=s.reindex(index=['b','a','c'])\n",
        "print(\"data series after changing the order of index:\")\n",
        "print(s)"
      ],
      "metadata": {
        "colab": {
          "base_uri": "https://localhost:8080/"
        },
        "id": "XWCTPZCYiuj-",
        "outputId": "3e305499-0f1a-4168-bd87-9dfc6fcfa9eb"
      },
      "execution_count": null,
      "outputs": [
        {
          "output_type": "stream",
          "name": "stdout",
          "text": [
            "a    1\n",
            "b    2\n",
            "c    3\n",
            "dtype: int64\n",
            "data series after changing the order of index:\n",
            "b    2\n",
            "a    1\n",
            "c    3\n",
            "dtype: int64\n"
          ]
        }
      ]
    },
    {
      "cell_type": "code",
      "source": [
        "import pandas as pd\n",
        "import nupy as np\n",
        "sr1=pd.series([1,2,3])\n",
        "sr2=pd.series([2,3,6])\n",
        "print(\"original series:\")\n",
        "print(\"sr1:\")\n",
        "print(sr1)\n",
        "print(\"sr2:\")\n",
        "print(sr2)\n",
        "print(\"in items of a given series not present in another given series:\")\n",
        "sr1 1=pd.series(np.union  id(sr1,sr2))\n",
        "sr2 2=pd.series(np.intersect id(sr1,sr2))\n",
        "result=sr1 1[sr1 1,is in(sr2 2)]\n",
        "print(result)"
      ],
      "metadata": {
        "id": "eTuLqlCLjaeu"
      },
      "execution_count": null,
      "outputs": []
    },
    {
      "cell_type": "code",
      "source": [
        "import pandas as pd\n",
        "import numpy as np\n",
        "exam_data={'name':['manish','dhiraj'],\n",
        "           'score':[12.5,9]}\n",
        "labels=['name','score']\n",
        "df=pd.DataFrame(exam_data,index=labels)\n",
        "print(\"first three rows of the data frame:\")"
      ],
      "metadata": {
        "id": "DsMUFykDlR6l",
        "colab": {
          "base_uri": "https://localhost:8080/"
        },
        "outputId": "7d0c3aec-75d3-4847-cd24-9f94dd69bc97"
      },
      "execution_count": null,
      "outputs": [
        {
          "output_type": "stream",
          "name": "stdout",
          "text": [
            "first three rows of the data frame:\n"
          ]
        }
      ]
    }
  ]
}